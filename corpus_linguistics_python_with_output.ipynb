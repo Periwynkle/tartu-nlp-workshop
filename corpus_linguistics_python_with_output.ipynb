{
 "cells": [
  {
   "cell_type": "markdown",
   "metadata": {},
   "source": [
    "# Corpus Linguistics with Python"
   ]
  },
  {
   "cell_type": "markdown",
   "metadata": {},
   "source": [
    "This session will demonstrate how Python can be used for corpus linguistics. We will work primarily with the **Natural Language Toolkit (NLTK)** library (http://www.nltk.org), which is an excellent platform for examining human language data favoured by teachers of computational linguistics. It has built-in corpora, lexical resources, and a comprehensive array of text processing libraries.\n",
    "\n",
    "After a quick review of relevant Python concepts, we will explore NLTK's core corpus linguistics functions: tokenization, frequency distributions of keywords, part-of-speech tagging, stemming, lemmatization, n-grams, collocations, and concordances. This will allow for a descriptive understanding of the corpus (word categories, counts, and contexts), which sets the stage for the detection of themes via topic modelling.\n",
    "\n",
    "We will also examine text preprocessing features offered by **scikit-learn** (http://scikit-learn.org), a user-friendly Python library for machine learning. It offers a different approach to tokenisation, and uses these tokens to transform documents into numerical vectors. Such vectors serve as input features for text classification algorithms.\n",
    "\n",
    "We will apply these functions to a few forum posts from an online newsgroups dataset, and examine them individually as well as comparatively."
   ]
  },
  {
   "cell_type": "markdown",
   "metadata": {},
   "source": [
    "## Review of basic Python\n",
    "\n",
    "Let's start by reviewing some fundamental concepts, functions, and data structures in Python that will be used throughout the workshop.\n",
    "\n",
    "For a more thorough introduction to Python programming for the humanities, I recommend Folgert Karsdorp's tutorial: http://www.karsdorp.io/python-course/\n",
    "\n",
    "**Note**: I cannot underscore the importance of search engines in the programming process, and of sites such as Stack Overflow and Quora. More often than not, coding is 80% Googling for the solution and 20% adapting search results to your specific problem. Chances are that someone else has had your exact problem or something very similar to it. It's important to be familiar with basic concepts, but there is no need to memorise complex commands."
   ]
  },
  {
   "cell_type": "markdown",
   "metadata": {},
   "source": [
    "### Numbers, strings, and variables\n",
    "\n",
    "Numbers and strings are two of Python's built-in data types: they are the basic ingredients of the language. **Numbers** can be integers (whole numbers such as `12` and `1000`) or floats (numbers with decimal points such as `3.1415`). **Strings** are sequences of text characters and are always contained within either single `' '` or double quotes `\" \"` (but not a mixture of the two). \n",
    "\n",
    "All data types in Python are implemented as **objects** - think of them as nouns. The *type* of the object determines what actions can be done to it: numbers can, e.g., be added to each other, whereas strings have to be concatenated. Note that objects of different types cannot be concatenated or added together; they must be of the same type.\n",
    "\n",
    "We can store data types in **variables**, which require a name (label). We use the equal sign `=` to assign values to named variables."
   ]
  },
  {
   "cell_type": "code",
   "execution_count": 1,
   "metadata": {},
   "outputs": [
    {
     "data": {
      "text/plain": [
       "2"
      ]
     },
     "execution_count": 1,
     "metadata": {},
     "output_type": "execute_result"
    }
   ],
   "source": [
    "1 + 1"
   ]
  },
  {
   "cell_type": "code",
   "execution_count": 2,
   "metadata": {},
   "outputs": [
    {
     "data": {
      "text/plain": [
       "'HelloPython'"
      ]
     },
     "execution_count": 2,
     "metadata": {},
     "output_type": "execute_result"
    }
   ],
   "source": [
    "'Hello' + 'Python'"
   ]
  },
  {
   "cell_type": "code",
   "execution_count": 3,
   "metadata": {},
   "outputs": [
    {
     "data": {
      "text/plain": [
       "'Hello Python'"
      ]
     },
     "execution_count": 3,
     "metadata": {},
     "output_type": "execute_result"
    }
   ],
   "source": [
    "'Hello ' + 'Python'"
   ]
  },
  {
   "cell_type": "code",
   "execution_count": 86,
   "metadata": {
    "scrolled": true
   },
   "outputs": [
    {
     "ename": "TypeError",
     "evalue": "Can't convert 'int' object to str implicitly",
     "output_type": "error",
     "traceback": [
      "\u001b[1;31m---------------------------------------------------------------------------\u001b[0m",
      "\u001b[1;31mTypeError\u001b[0m                                 Traceback (most recent call last)",
      "\u001b[1;32m<ipython-input-86-8fd5a062fb3a>\u001b[0m in \u001b[0;36m<module>\u001b[1;34m()\u001b[0m\n\u001b[1;32m----> 1\u001b[1;33m \u001b[1;34m'Hello '\u001b[0m \u001b[1;33m+\u001b[0m \u001b[1;36m1\u001b[0m\u001b[1;33m\u001b[0m\u001b[0m\n\u001b[0m",
      "\u001b[1;31mTypeError\u001b[0m: Can't convert 'int' object to str implicitly"
     ]
    }
   ],
   "source": [
    "'Hello ' + 1"
   ]
  },
  {
   "cell_type": "code",
   "execution_count": 5,
   "metadata": {},
   "outputs": [
    {
     "data": {
      "text/plain": [
       "'Hello 1'"
      ]
     },
     "execution_count": 5,
     "metadata": {},
     "output_type": "execute_result"
    }
   ],
   "source": [
    "'Hello ' + '1'"
   ]
  },
  {
   "cell_type": "code",
   "execution_count": 6,
   "metadata": {},
   "outputs": [],
   "source": [
    "message = 'Hello Python!'"
   ]
  },
  {
   "cell_type": "markdown",
   "metadata": {},
   "source": [
    "### Functions and methods\n",
    "\n",
    "**Functions** in Python perform actions - think of them as verbs. They are denoted by parentheses `()`. `print()` is the most basic function in Python, and is pretty self-explanatory: it prints input values directly to the screen.\n",
    "\n",
    "You can check the type of a variable with the `type()` function, and you can count the number of characters in a string with the `len()` function.\n",
    "\n",
    "**Methods** are a subcategory of functions that apply to specific objects (data types). They are called using dot notation: `object.method()`. Python has a number of useful *string methods*:\n",
    "- `.upper()` makes everything uppercase.\n",
    "- `.lower()` makes everything lowercase.\n",
    "- `.count()` adds up the number of times a character/character sequence appears.\n",
    "- `.find()` displays the position at which a character/character sequence can be found (note that Python counting starts at 0, not 1).\n",
    "- `.replace()` changes one character/character sequence for another."
   ]
  },
  {
   "cell_type": "code",
   "execution_count": 7,
   "metadata": {},
   "outputs": [
    {
     "name": "stdout",
     "output_type": "stream",
     "text": [
      "Hello Python!\n"
     ]
    }
   ],
   "source": [
    "print('Hello Python!')"
   ]
  },
  {
   "cell_type": "code",
   "execution_count": 8,
   "metadata": {},
   "outputs": [
    {
     "name": "stdout",
     "output_type": "stream",
     "text": [
      "Hello Python!\n"
     ]
    }
   ],
   "source": [
    "print(message)"
   ]
  },
  {
   "cell_type": "code",
   "execution_count": 9,
   "metadata": {},
   "outputs": [
    {
     "data": {
      "text/plain": [
       "str"
      ]
     },
     "execution_count": 9,
     "metadata": {},
     "output_type": "execute_result"
    }
   ],
   "source": [
    "type(message)"
   ]
  },
  {
   "cell_type": "code",
   "execution_count": 10,
   "metadata": {},
   "outputs": [
    {
     "data": {
      "text/plain": [
       "13"
      ]
     },
     "execution_count": 10,
     "metadata": {},
     "output_type": "execute_result"
    }
   ],
   "source": [
    "len(message)"
   ]
  },
  {
   "cell_type": "code",
   "execution_count": 11,
   "metadata": {},
   "outputs": [
    {
     "data": {
      "text/plain": [
       "'HELLO PYTHON!'"
      ]
     },
     "execution_count": 11,
     "metadata": {},
     "output_type": "execute_result"
    }
   ],
   "source": [
    "message.upper()"
   ]
  },
  {
   "cell_type": "code",
   "execution_count": 12,
   "metadata": {},
   "outputs": [
    {
     "data": {
      "text/plain": [
       "'hello python!'"
      ]
     },
     "execution_count": 12,
     "metadata": {},
     "output_type": "execute_result"
    }
   ],
   "source": [
    "message.lower()"
   ]
  },
  {
   "cell_type": "code",
   "execution_count": 13,
   "metadata": {},
   "outputs": [
    {
     "data": {
      "text/plain": [
       "2"
      ]
     },
     "execution_count": 13,
     "metadata": {},
     "output_type": "execute_result"
    }
   ],
   "source": [
    "message.count('o')"
   ]
  },
  {
   "cell_type": "code",
   "execution_count": 14,
   "metadata": {},
   "outputs": [
    {
     "data": {
      "text/plain": [
       "6"
      ]
     },
     "execution_count": 14,
     "metadata": {},
     "output_type": "execute_result"
    }
   ],
   "source": [
    "message.find('Python')"
   ]
  },
  {
   "cell_type": "code",
   "execution_count": 15,
   "metadata": {},
   "outputs": [
    {
     "data": {
      "text/plain": [
       "'Hello Yin!'"
      ]
     },
     "execution_count": 15,
     "metadata": {},
     "output_type": "execute_result"
    }
   ],
   "source": [
    "message.replace('Python', 'Yin') # Put your name here!"
   ]
  },
  {
   "cell_type": "markdown",
   "metadata": {},
   "source": [
    "### Lists\n",
    "\n",
    "Lists are a very useful data type in Python, and should be used to store values when order matters. They are declared using brackets `[]` and indexed starting at 0.\n",
    "\n",
    "Lists are highly *mutable*: you can add to them using the `.append()` method, remove from them using the `.remove()` method, change their values through their indexes, and slice them. For a full list of list methods (no pun intended!), see the Python documentation: https://docs.python.org/3/tutorial/datastructures.html#more-on-lists\n",
    "\n",
    "The `len()` function can be used on lists to calculate their length, and the `sorted()` function can be used to sort their elements in alphabetical order."
   ]
  },
  {
   "cell_type": "code",
   "execution_count": 16,
   "metadata": {},
   "outputs": [
    {
     "data": {
      "text/plain": [
       "list"
      ]
     },
     "execution_count": 16,
     "metadata": {},
     "output_type": "execute_result"
    }
   ],
   "source": [
    "best_cities_list = ['London', 'New York', 'Paris']\n",
    "type(best_cities_list)"
   ]
  },
  {
   "cell_type": "code",
   "execution_count": 17,
   "metadata": {},
   "outputs": [
    {
     "data": {
      "text/plain": [
       "['London', 'New York', 'Paris', 'Tartu']"
      ]
     },
     "execution_count": 17,
     "metadata": {},
     "output_type": "execute_result"
    }
   ],
   "source": [
    "best_cities_list.append('Tartu')\n",
    "best_cities_list"
   ]
  },
  {
   "cell_type": "code",
   "execution_count": 18,
   "metadata": {},
   "outputs": [
    {
     "data": {
      "text/plain": [
       "['London', 'New York', 'Tartu']"
      ]
     },
     "execution_count": 18,
     "metadata": {},
     "output_type": "execute_result"
    }
   ],
   "source": [
    "best_cities_list.remove('Paris')\n",
    "best_cities_list"
   ]
  },
  {
   "cell_type": "code",
   "execution_count": 19,
   "metadata": {},
   "outputs": [
    {
     "data": {
      "text/plain": [
       "'London'"
      ]
     },
     "execution_count": 19,
     "metadata": {},
     "output_type": "execute_result"
    }
   ],
   "source": [
    "best_cities_list[0] # First item in the list."
   ]
  },
  {
   "cell_type": "code",
   "execution_count": 20,
   "metadata": {},
   "outputs": [
    {
     "data": {
      "text/plain": [
       "'Tartu'"
      ]
     },
     "execution_count": 20,
     "metadata": {},
     "output_type": "execute_result"
    }
   ],
   "source": [
    "best_cities_list[-1] # Last item in the list."
   ]
  },
  {
   "cell_type": "code",
   "execution_count": 21,
   "metadata": {},
   "outputs": [
    {
     "data": {
      "text/plain": [
       "['London', 'Barcelona', 'Tartu']"
      ]
     },
     "execution_count": 21,
     "metadata": {},
     "output_type": "execute_result"
    }
   ],
   "source": [
    "best_cities_list[1] = 'Barcelona' # Replace the second item in a list (remember that Python counting starts at 0).\n",
    "best_cities_list"
   ]
  },
  {
   "cell_type": "code",
   "execution_count": 22,
   "metadata": {},
   "outputs": [
    {
     "data": {
      "text/plain": [
       "['London', 'Barcelona']"
      ]
     },
     "execution_count": 22,
     "metadata": {},
     "output_type": "execute_result"
    }
   ],
   "source": [
    "best_cities_list[:2] # The first two items in the list."
   ]
  },
  {
   "cell_type": "code",
   "execution_count": 23,
   "metadata": {},
   "outputs": [
    {
     "data": {
      "text/plain": [
       "['Barcelona', 'Tartu']"
      ]
     },
     "execution_count": 23,
     "metadata": {},
     "output_type": "execute_result"
    }
   ],
   "source": [
    "best_cities_list[1:] # The first item to the last item in the list."
   ]
  },
  {
   "cell_type": "code",
   "execution_count": 24,
   "metadata": {},
   "outputs": [
    {
     "data": {
      "text/plain": [
       "3"
      ]
     },
     "execution_count": 24,
     "metadata": {},
     "output_type": "execute_result"
    }
   ],
   "source": [
    "len(best_cities_list)"
   ]
  },
  {
   "cell_type": "code",
   "execution_count": 25,
   "metadata": {},
   "outputs": [
    {
     "data": {
      "text/plain": [
       "['Barcelona', 'London', 'Tartu']"
      ]
     },
     "execution_count": 25,
     "metadata": {},
     "output_type": "execute_result"
    }
   ],
   "source": [
    "sorted(best_cities_list)"
   ]
  },
  {
   "cell_type": "markdown",
   "metadata": {},
   "source": [
    "### Dictionaries\n",
    "\n",
    "Dictionaries are a powerful data type in Python that stores related information. They are declared using braces (curly brackets) `{}` and contain a list of `key:value` pairs. Unlike lists, they are not ordered, and keys are used as opposed to index numbers to extract values. Keys must be unique (a key can only have one value), but values do not have to be (different keys can have the same value). As such, they work in a similar way to the dictionaries that we know and love, apart from the fact that they aren't ordered!\n",
    "\n",
    "The `len()` function can also be used on dictionaries. Two dictionary-specific methods are `.keys()` and `.values()`, which display all of the keys and values in the dictionary, respectively.\n",
    "\n",
    "Elements can be removed from dictionaries using the `del` command.\n",
    "\n",
    "Python documentation: https://docs.python.org/3/tutorial/datastructures.html#dictionaries"
   ]
  },
  {
   "cell_type": "code",
   "execution_count": 26,
   "metadata": {},
   "outputs": [
    {
     "data": {
      "text/plain": [
       "dict"
      ]
     },
     "execution_count": 26,
     "metadata": {},
     "output_type": "execute_result"
    }
   ],
   "source": [
    "best_cities_dict = {'London': 'United Kingdom', 'New York': 'United States', 'Paris': 'France'}\n",
    "type(best_cities_dict)"
   ]
  },
  {
   "cell_type": "code",
   "execution_count": 27,
   "metadata": {},
   "outputs": [
    {
     "data": {
      "text/plain": [
       "{'Barcelona': 'Spain',\n",
       " 'London': 'United Kingdom',\n",
       " 'New York': 'United States',\n",
       " 'Paris': 'France'}"
      ]
     },
     "execution_count": 27,
     "metadata": {},
     "output_type": "execute_result"
    }
   ],
   "source": [
    "best_cities_dict['Barcelona'] = 'Spain' # Add to a dictionary.\n",
    "best_cities_dict # Note that the key:value pairs are not in the order in which they were entered!"
   ]
  },
  {
   "cell_type": "code",
   "execution_count": 28,
   "metadata": {},
   "outputs": [
    {
     "data": {
      "text/plain": [
       "'France'"
      ]
     },
     "execution_count": 28,
     "metadata": {},
     "output_type": "execute_result"
    }
   ],
   "source": [
    "best_cities_dict['Paris'] # Access values of a dictionary through their keys."
   ]
  },
  {
   "cell_type": "code",
   "execution_count": 29,
   "metadata": {},
   "outputs": [
    {
     "data": {
      "text/plain": [
       "{'Barcelona': 'Spain',\n",
       " 'London': 'England',\n",
       " 'New York': 'United States',\n",
       " 'Paris': 'France'}"
      ]
     },
     "execution_count": 29,
     "metadata": {},
     "output_type": "execute_result"
    }
   ],
   "source": [
    "best_cities_dict['London'] = 'England' # Change values of a dictionary through their keys.\n",
    "best_cities_dict"
   ]
  },
  {
   "cell_type": "code",
   "execution_count": 30,
   "metadata": {},
   "outputs": [
    {
     "name": "stdout",
     "output_type": "stream",
     "text": [
      "dict_keys(['New York', 'London', 'Barcelona', 'Paris'])\n",
      "dict_values(['United States', 'England', 'Spain', 'France'])\n"
     ]
    }
   ],
   "source": [
    "print(best_cities_dict.keys()) \n",
    "print(best_cities_dict.values()) "
   ]
  },
  {
   "cell_type": "code",
   "execution_count": 31,
   "metadata": {},
   "outputs": [
    {
     "data": {
      "text/plain": [
       "4"
      ]
     },
     "execution_count": 31,
     "metadata": {},
     "output_type": "execute_result"
    }
   ],
   "source": [
    "len(best_cities_dict)"
   ]
  },
  {
   "cell_type": "code",
   "execution_count": 32,
   "metadata": {},
   "outputs": [
    {
     "data": {
      "text/plain": [
       "{'Barcelona': 'Spain', 'London': 'England', 'New York': 'United States'}"
      ]
     },
     "execution_count": 32,
     "metadata": {},
     "output_type": "execute_result"
    }
   ],
   "source": [
    "del best_cities_dict['Paris']\n",
    "best_cities_dict"
   ]
  },
  {
   "cell_type": "markdown",
   "metadata": {},
   "source": [
    "### Sets\n",
    "\n",
    "A set stores an unordered collection of items for fast lookup - no indexes are used. There are no duplicates, so by definition every item in a set is unique. They are similar to dictionaries, but have no key:value pairs.\n",
    "\n",
    "Create a set with curly braces `{}` or the `set()` function. Note that if you are creating an empty set, you have to use `set()`, as `{}` represents an empty dictionary.\n",
    "\n",
    "Add to a set using the `.add` method and remove from a set using the `.remove` method. The `len()` function can be used to calculate its length. The `sorted()` function can be used to transform a set into an alphabetical list.\n",
    "\n",
    "Python documentation: https://docs.python.org/3/tutorial/datastructures.html#sets"
   ]
  },
  {
   "cell_type": "code",
   "execution_count": 33,
   "metadata": {},
   "outputs": [
    {
     "name": "stdout",
     "output_type": "stream",
     "text": [
      "<class 'set'>\n"
     ]
    },
    {
     "data": {
      "text/plain": [
       "{'London', 'New York', 'Paris'}"
      ]
     },
     "execution_count": 33,
     "metadata": {},
     "output_type": "execute_result"
    }
   ],
   "source": [
    "best_cities_set = {'London', 'New York', 'Paris', 'London'} \n",
    "print(type(best_cities_set))\n",
    "best_cities_set # Note that 'London' only appears once even though it is added twice."
   ]
  },
  {
   "cell_type": "code",
   "execution_count": 34,
   "metadata": {},
   "outputs": [
    {
     "data": {
      "text/plain": [
       "set()"
      ]
     },
     "execution_count": 34,
     "metadata": {},
     "output_type": "execute_result"
    }
   ],
   "source": [
    "empty_set = set()\n",
    "empty_set"
   ]
  },
  {
   "cell_type": "code",
   "execution_count": 35,
   "metadata": {},
   "outputs": [
    {
     "data": {
      "text/plain": [
       "{'Tartu'}"
      ]
     },
     "execution_count": 35,
     "metadata": {},
     "output_type": "execute_result"
    }
   ],
   "source": [
    "empty_set.add('Tartu')\n",
    "empty_set"
   ]
  },
  {
   "cell_type": "code",
   "execution_count": 36,
   "metadata": {},
   "outputs": [
    {
     "data": {
      "text/plain": [
       "set()"
      ]
     },
     "execution_count": 36,
     "metadata": {},
     "output_type": "execute_result"
    }
   ],
   "source": [
    "empty_set.remove('Tartu')\n",
    "empty_set"
   ]
  },
  {
   "cell_type": "code",
   "execution_count": 37,
   "metadata": {},
   "outputs": [
    {
     "data": {
      "text/plain": [
       "0"
      ]
     },
     "execution_count": 37,
     "metadata": {},
     "output_type": "execute_result"
    }
   ],
   "source": [
    "len(empty_set)"
   ]
  },
  {
   "cell_type": "code",
   "execution_count": 38,
   "metadata": {},
   "outputs": [
    {
     "data": {
      "text/plain": [
       "['London', 'New York', 'Paris']"
      ]
     },
     "execution_count": 38,
     "metadata": {},
     "output_type": "execute_result"
    }
   ],
   "source": [
    "sorted(best_cities_set)"
   ]
  },
  {
   "cell_type": "markdown",
   "metadata": {},
   "source": [
    "### If and for statements\n",
    "\n",
    "`if` and `for` statements are two of Python's most fundamental control flow tools. They are extremely intuitive and readable. `if` is used for conditional execution, whereas `for` is used to iterate over the elements of an iterable object (e.g., a list or a string). To continue our linguistics metaphor, think of these statements as sentences or paragraphs - they combine both objects and functions (our 'nouns' and 'verbs', respectively).\n",
    "\n",
    "Note that the body of the statement needs to be *indented* (press tab once, or use four spaces). This is extremely important.\n",
    "\n",
    "Python documentation: https://docs.python.org/3/tutorial/controlflow.html"
   ]
  },
  {
   "cell_type": "code",
   "execution_count": 39,
   "metadata": {},
   "outputs": [
    {
     "name": "stdout",
     "output_type": "stream",
     "text": [
      "['London', 'Barcelona', 'Tartu']\n"
     ]
    }
   ],
   "source": [
    "if len(best_cities_list) >= 3: # Try changing this to 4.\n",
    "    print(best_cities_list)\n",
    "else:\n",
    "    print(\"The length of best_cities is less than 3.\")"
   ]
  },
  {
   "cell_type": "code",
   "execution_count": 40,
   "metadata": {},
   "outputs": [
    {
     "name": "stdout",
     "output_type": "stream",
     "text": [
      "New York is in United States\n",
      "London is in England\n",
      "Barcelona is in Spain\n"
     ]
    }
   ],
   "source": [
    "for city in best_cities_dict:\n",
    "    print(city, 'is in', best_cities_dict[city])"
   ]
  },
  {
   "cell_type": "markdown",
   "metadata": {},
   "source": [
    "## Import packages and modules\n",
    "\n",
    "So far we have only been using the built-in functions from Python's standard library. While these are quite extensive, in order to execute more specialised tasks (e.g., those related to corpus linguistics or machine learning), we will have to import tailor-made packages and modules. A **module** is a Python file that contains functions for specific non-standard tasks; modules are organised into file hierarchies called **packages**. A **library** is a more generic term that refers to a published module, package, or group of packages.\n",
    "\n",
    "The Python Standard Library: https://docs.python.org/3/library/"
   ]
  },
  {
   "cell_type": "code",
   "execution_count": 41,
   "metadata": {},
   "outputs": [],
   "source": [
    "# We need these modules for most of our corpus linguistics functions.\n",
    "import nltk\n",
    "from nltk.tokenize import word_tokenize\n",
    "from nltk.probability import FreqDist\n",
    "from nltk.tag import pos_tag, map_tag\n",
    "from nltk import bigrams\n",
    "from nltk.collocations import *\n",
    "from nltk.stem.snowball import SnowballStemmer\n",
    "from nltk.stem.porter import *\n",
    "from nltk.stem.lancaster import LancasterStemmer\n",
    "from nltk.corpus import wordnet as wn\n",
    "from nltk import WordNetLemmatizer\n",
    "\n",
    "# We need this module for tokenization.\n",
    "from sklearn.feature_extraction import stop_words\n",
    "from sklearn.feature_extraction.text import CountVectorizer\n",
    "\n",
    "# We need these packages for plotting.\n",
    "import numpy as np\n",
    "import matplotlib.pyplot as plt\n",
    "%matplotlib inline"
   ]
  },
  {
   "cell_type": "code",
   "execution_count": 42,
   "metadata": {},
   "outputs": [
    {
     "name": "stdout",
     "output_type": "stream",
     "text": [
      "[nltk_data] Downloading package punkt to C:\\nltk_data...\n",
      "[nltk_data]   Package punkt is already up-to-date!\n",
      "[nltk_data] Downloading package stopwords to C:\\nltk_data...\n",
      "[nltk_data]   Package stopwords is already up-to-date!\n",
      "[nltk_data] Downloading package averaged_perceptron_tagger to\n",
      "[nltk_data]     C:\\nltk_data...\n",
      "[nltk_data]   Package averaged_perceptron_tagger is already up-to-\n",
      "[nltk_data]       date!\n",
      "[nltk_data] Downloading package wordnet to C:\\nltk_data...\n",
      "[nltk_data]   Package wordnet is already up-to-date!\n"
     ]
    },
    {
     "data": {
      "text/plain": [
       "True"
      ]
     },
     "execution_count": 42,
     "metadata": {},
     "output_type": "execute_result"
    }
   ],
   "source": [
    "# We also need to download a few NLTK-specific packages that were not included in the general NLTK download.\n",
    "nltk.download('punkt')\n",
    "nltk.download('stopwords')\n",
    "nltk.download('averaged_perceptron_tagger')\n",
    "nltk.download('wordnet')"
   ]
  },
  {
   "cell_type": "markdown",
   "metadata": {},
   "source": [
    "## Load and examine dataset\n",
    "\n",
    "For this workshop we will be using the **20 newsgroups** dataset from scikit-learn, one of the most famous corpora for text classification and clustering. It contains 20,000 newsgroup forum posts with 20 labeled topics. To keep things simple and clear, we will examine three groups of posts from different categories: automobiles, space, and guns. This means they are highly unrelated to each other, so should contain more distinct vocabularies.\n",
    "\n",
    "When downloading the posts from our categories of interest, we will strip newsgroup-related metadata by setting the `remove` argument to equal `'headers', 'footers', 'quotes'`. We will then extract the raw text (`.data`) from each group into a separate variable. This raw text is a list: each element of the list is a forum post, so the length of the entire list represents the total number of documents (forum posts in the category).\n",
    "\n",
    "Scikit-learn documentation: http://scikit-learn.org/stable/datasets/twenty_newsgroups.html\n",
    "<br>20 newsgroups dataset homepage: http://qwone.com/~jason/20Newsgroups/"
   ]
  },
  {
   "cell_type": "code",
   "execution_count": 43,
   "metadata": {},
   "outputs": [
    {
     "data": {
      "text/plain": [
       "list"
      ]
     },
     "execution_count": 43,
     "metadata": {},
     "output_type": "execute_result"
    }
   ],
   "source": [
    "from sklearn.datasets import fetch_20newsgroups\n",
    "\n",
    "cars = fetch_20newsgroups(categories=['rec.autos'], remove=('headers', 'footers', 'quotes'))\n",
    "space = fetch_20newsgroups(categories=['sci.space'], remove=('headers', 'footers', 'quotes'))\n",
    "guns = fetch_20newsgroups(categories=['talk.politics.guns'], remove=('headers', 'footers', 'quotes'))\n",
    "\n",
    "cars_raw = cars.data\n",
    "space_raw = space.data\n",
    "guns_raw = guns.data\n",
    "\n",
    "type(cars_raw)"
   ]
  },
  {
   "cell_type": "code",
   "execution_count": 44,
   "metadata": {},
   "outputs": [
    {
     "name": "stdout",
     "output_type": "stream",
     "text": [
      "Number of posts about cars: 594\n",
      "Number of posts about space: 593\n",
      "Number of posts about guns: 546\n"
     ]
    }
   ],
   "source": [
    "print('Number of posts about cars:', len(cars_raw))\n",
    "print('Number of posts about space:', len(space_raw))\n",
    "print('Number of posts about guns:', len(guns_raw))"
   ]
  },
  {
   "cell_type": "markdown",
   "metadata": {},
   "source": [
    "Let's take a look at the first post in each group to get a sense of their language and style. Each post is a string."
   ]
  },
  {
   "cell_type": "code",
   "execution_count": 45,
   "metadata": {},
   "outputs": [
    {
     "name": "stdout",
     "output_type": "stream",
     "text": [
      "<class 'str'>\n",
      "***\n",
      "From article <1993Apr5.200048.23421@ucsu.Colorado.EDU>, by lorenzo@rintintin.Colorado.EDU (Eric Lorenzo):\n",
      "\n",
      "--Let me put it like this.  The only similarity between the three models\n",
      "  is the \"300\", or 3-liter engine displacement.  Actually, the SC300 (the\n",
      "  coupe) and the GS300 (the funky-looking new sedan) share the same 3.0\n",
      "  liter inline-six, and the ES300 (popular small sedan) uses 3.0 V6 shared\n",
      "  with the Camry.  The SC300 is a luxury/sports coupe, the GS300 is the new\n",
      "  luxury sedan, and the ES300 is the base executive sedan.  All three look\n",
      "  completely different.\n",
      "\n",
      "--Aamir Qazi\n",
      "-- \n",
      "***\n",
      "\n",
      "Any lunar satellite needs fuel to do regular orbit corrections, and when\n",
      "its fuel runs out it will crash within months.  The orbits of the Apollo\n",
      "motherships changed noticeably during lunar missions lasting only a few\n",
      "days.  It is *possible* that there are stable orbits here and there --\n",
      "the Moon's gravitational field is poorly mapped -- but we know of none.\n",
      "\n",
      "Perturbations from Sun and Earth are relatively minor issues at low\n",
      "altitudes.  The big problem is that the Moon's own gravitational field\n",
      "is quite lumpy due to the irregular distribution of mass within the Moon.\n",
      "***\n",
      "\n",
      "That's a revisionist account of what happened.  Gritz was well-aware\n",
      "of Duke's presence on the ticket.  Given that Gritz is not at all shy\n",
      "about associating and promoting other white supremacists (such as the\n",
      "Christian Identity movement or Willis Carto), whatever reasons Gritz\n",
      "had to leave the ticket had nothing to do with Duke's presence.\n",
      "\n",
      "\n",
      "I believe Chip Berlet has a Populist Party newsletter from the time with\n",
      "a photo of Gritz happily shaking hands with Duke.\n"
     ]
    }
   ],
   "source": [
    "print(type(cars_raw[0]))\n",
    "print('***')\n",
    "print(cars_raw[0])\n",
    "print('***')\n",
    "print(space_raw[0])\n",
    "print('***')\n",
    "print(guns_raw[0])"
   ]
  },
  {
   "cell_type": "markdown",
   "metadata": {},
   "source": [
    "## Tokenization\n",
    "\n",
    "Now that we've downloaded the forum posts, let's tokenize them so that we can analyse their words in various ways. This will transform the strings into lists of 'words' (tokens). There are multiple ways to tokenize text:\n",
    "1. The simplest method is with Python's `.split()` method for strings. This allows us to tokenize on spaces.\n",
    "2. NLTK's `word_tokenize` is a more advanced method. It uses the Treebank Word Tokenizer and assumes that the text has already been separated into sentences. Contractions are split, and most punctuation and special characters are kept as separate tokens. \n",
    "3. Scikit-learn's `CountVectorizer` is an alternate advanced method that goes even further than NLTK. By default, words with only one character are discarded, punctuation is ignored, and special characters are stripped. \n",
    "\n",
    "Each method has its advantages and disadvantages, and there is no 'best' tokenization approach: it all depends on the research question. Scikit-learn's `CountVectorizer` disregards punctuation because such tokens are not important for most text classification algorithms, whereas NLTK retains punctuation because it is meaningful for many corpus linguistics questions. From the perspective of machine learning, selecting the right tokenization approach can be viewed as part of feature engineering: tokens are extremely significant features for text classification algorithms, as they greatly influence the output.\n",
    "\n",
    "`word_tokenize` documentation: https://www.nltk.org/api/nltk.tokenize.html\n",
    "<br> Treebank Word Tokenizer documentation: http://www.nltk.org/_modules/nltk/tokenize/treebank.html\n",
    "<br>`CountVectorizer` documentation: http://scikit-learn.org/stable/modules/generated/sklearn.feature_extraction.text.CountVectorizer.html"
   ]
  },
  {
   "cell_type": "markdown",
   "metadata": {},
   "source": [
    "### Compare tokenizers for one post\n",
    "\n",
    "Let's begin by testing the tokenizers on the first post in the space forum. As our ultimate goal is to detect topics, we can ignore capitalisation (this will reduce the number of features, which makes modelling easier). Let's also clean our text by removing new lines, which are represented by `\\n`.\n",
    "\n",
    "We can compare not only the tokens themselves, but also the total number of tokens produced by each method."
   ]
  },
  {
   "cell_type": "code",
   "execution_count": 46,
   "metadata": {
    "scrolled": true
   },
   "outputs": [
    {
     "name": "stdout",
     "output_type": "stream",
     "text": [
      " any lunar satellite needs fuel to do regular orbit corrections, and when its fuel runs out it will crash within months.  the orbits of the apollo motherships changed noticeably during lunar missions lasting only a few days.  it is *possible* that there are stable orbits here and there -- the moon's gravitational field is poorly mapped -- but we know of none.  perturbations from sun and earth are relatively minor issues at low altitudes.  the big problem is that the moon's own gravitational field is quite lumpy due to the irregular distribution of mass within the moon.\n"
     ]
    }
   ],
   "source": [
    "sample_text = space_raw[0].lower()\n",
    "sample_text = sample_text.replace('\\n',' ')\n",
    "print(sample_text)"
   ]
  },
  {
   "cell_type": "code",
   "execution_count": 47,
   "metadata": {
    "scrolled": true
   },
   "outputs": [
    {
     "name": "stdout",
     "output_type": "stream",
     "text": [
      "<class 'list'>\n",
      "['', 'any', 'lunar', 'satellite', 'needs', 'fuel', 'to', 'do', 'regular', 'orbit', 'corrections,', 'and', 'when', 'its', 'fuel', 'runs', 'out', 'it', 'will', 'crash', 'within', 'months.', '', 'the', 'orbits', 'of', 'the', 'apollo', 'motherships', 'changed', 'noticeably', 'during', 'lunar', 'missions', 'lasting', 'only', 'a', 'few', 'days.', '', 'it', 'is', '*possible*', 'that', 'there', 'are', 'stable', 'orbits', 'here', 'and', 'there', '--', 'the', \"moon's\", 'gravitational', 'field', 'is', 'poorly', 'mapped', '--', 'but', 'we', 'know', 'of', 'none.', '', 'perturbations', 'from', 'sun', 'and', 'earth', 'are', 'relatively', 'minor', 'issues', 'at', 'low', 'altitudes.', '', 'the', 'big', 'problem', 'is', 'that', 'the', \"moon's\", 'own', 'gravitational', 'field', 'is', 'quite', 'lumpy', 'due', 'to', 'the', 'irregular', 'distribution', 'of', 'mass', 'within', 'the', 'moon.']\n",
      "Number of tokens (Python): 102\n"
     ]
    }
   ],
   "source": [
    "tokenized_python = sample_text.split(' ')\n",
    "print(type(tokenized_python))\n",
    "print(tokenized_python)\n",
    "print('Number of tokens (Python):', len(tokenized_python))"
   ]
  },
  {
   "cell_type": "code",
   "execution_count": 48,
   "metadata": {},
   "outputs": [
    {
     "name": "stdout",
     "output_type": "stream",
     "text": [
      "<class 'list'>\n",
      "['any', 'lunar', 'satellite', 'needs', 'fuel', 'to', 'do', 'regular', 'orbit', 'corrections', 'and', 'when', 'its', 'fuel', 'runs', 'out', 'it', 'will', 'crash', 'within', 'months', 'the', 'orbits', 'of', 'the', 'apollo', 'motherships', 'changed', 'noticeably', 'during', 'lunar', 'missions', 'lasting', 'only', 'few', 'days', 'it', 'is', 'possible', 'that', 'there', 'are', 'stable', 'orbits', 'here', 'and', 'there', 'the', 'moon', 'gravitational', 'field', 'is', 'poorly', 'mapped', 'but', 'we', 'know', 'of', 'none', 'perturbations', 'from', 'sun', 'and', 'earth', 'are', 'relatively', 'minor', 'issues', 'at', 'low', 'altitudes', 'the', 'big', 'problem', 'is', 'that', 'the', 'moon', 'own', 'gravitational', 'field', 'is', 'quite', 'lumpy', 'due', 'to', 'the', 'irregular', 'distribution', 'of', 'mass', 'within', 'the', 'moon']\n",
      "Number of tokens (Scikit): 94\n"
     ]
    }
   ],
   "source": [
    "tokenized_scikit = CountVectorizer().build_tokenizer()(sample_text)\n",
    "print(type(tokenized_scikit))\n",
    "print(tokenized_scikit)\n",
    "print('Number of tokens (Scikit):', len(tokenized_scikit))"
   ]
  },
  {
   "cell_type": "code",
   "execution_count": 49,
   "metadata": {},
   "outputs": [
    {
     "name": "stdout",
     "output_type": "stream",
     "text": [
      "<class 'list'>\n",
      "['any', 'lunar', 'satellite', 'needs', 'fuel', 'to', 'do', 'regular', 'orbit', 'corrections', ',', 'and', 'when', 'its', 'fuel', 'runs', 'out', 'it', 'will', 'crash', 'within', 'months', '.', 'the', 'orbits', 'of', 'the', 'apollo', 'motherships', 'changed', 'noticeably', 'during', 'lunar', 'missions', 'lasting', 'only', 'a', 'few', 'days', '.', 'it', 'is', '*possible*', 'that', 'there', 'are', 'stable', 'orbits', 'here', 'and', 'there', '--', 'the', 'moon', \"'s\", 'gravitational', 'field', 'is', 'poorly', 'mapped', '--', 'but', 'we', 'know', 'of', 'none', '.', 'perturbations', 'from', 'sun', 'and', 'earth', 'are', 'relatively', 'minor', 'issues', 'at', 'low', 'altitudes', '.', 'the', 'big', 'problem', 'is', 'that', 'the', 'moon', \"'s\", 'own', 'gravitational', 'field', 'is', 'quite', 'lumpy', 'due', 'to', 'the', 'irregular', 'distribution', 'of', 'mass', 'within', 'the', 'moon', '.']\n",
      "Number of tokens (NLTK): 105\n"
     ]
    }
   ],
   "source": [
    "tokenized_nltk = nltk.word_tokenize(sample_text)\n",
    "print(type(tokenized_nltk))\n",
    "print(tokenized_nltk)\n",
    "print('Number of tokens (NLTK):', len(tokenized_nltk))"
   ]
  },
  {
   "cell_type": "markdown",
   "metadata": {},
   "source": [
    "As scikit-learn's `CountVectorizer` produces the 'cleanest' results for our purposes, we will use it going forward. We can modify its parameters to remove numbers and words of less than three characters. These tokens are not helpful for identifying the theme of a text. \n",
    "\n",
    "We perform this removal using a *regular expression* in the `token_pattern` argument of `CountVectorizer`. `r` indicates raw string, `\\b` indicates the word boundary, `[A-Za-z]` indicates that only tokens containing alphabetic letters (either uppercase or lowercase) will be considered, and `{3,}` indicates that the token must be at least three characters. More about regular expressions: https://docs.python.org/3/library/re.html"
   ]
  },
  {
   "cell_type": "code",
   "execution_count": 50,
   "metadata": {},
   "outputs": [
    {
     "name": "stdout",
     "output_type": "stream",
     "text": [
      "<class 'list'>\n",
      "['any', 'lunar', 'satellite', 'needs', 'fuel', 'regular', 'orbit', 'corrections', 'and', 'when', 'its', 'fuel', 'runs', 'out', 'will', 'crash', 'within', 'months', 'the', 'orbits', 'the', 'apollo', 'motherships', 'changed', 'noticeably', 'during', 'lunar', 'missions', 'lasting', 'only', 'few', 'days', 'possible', 'that', 'there', 'are', 'stable', 'orbits', 'here', 'and', 'there', 'the', 'moon', 'gravitational', 'field', 'poorly', 'mapped', 'but', 'know', 'none', 'perturbations', 'from', 'sun', 'and', 'earth', 'are', 'relatively', 'minor', 'issues', 'low', 'altitudes', 'the', 'big', 'problem', 'that', 'the', 'moon', 'own', 'gravitational', 'field', 'quite', 'lumpy', 'due', 'the', 'irregular', 'distribution', 'mass', 'within', 'the', 'moon']\n",
      "Number of tokens (Scikit modified): 80\n"
     ]
    }
   ],
   "source": [
    "tokenized_scikit2 = CountVectorizer(token_pattern=r'\\b[A-Za-z]{3,}\\b').build_tokenizer()(sample_text)\n",
    "print(type(tokenized_scikit2))\n",
    "print(tokenized_scikit2)\n",
    "print('Number of tokens (Scikit modified):', len(tokenized_scikit2))"
   ]
  },
  {
   "cell_type": "markdown",
   "metadata": {},
   "source": [
    "### Tokenize all forum posts\n",
    "\n",
    "Now that we have seen how different tokenizers work and selected the one best-suited to our objectives, we can scale up tokenization to the entire corpora of forum text: each corpus contains the posts in one category of interest. This will allow us to compare their vocabularies in various ways.\n",
    "\n",
    "At the moment, our corpora are represented as lists of strings (each string is a document, or forum post). To facilitate tokenization, let's merge all of the documents in each corpus into one big string using the `.join()` method. We will pass this into the tokenizer.\n",
    "\n",
    "We will also perform one last tokenization step: the removal of **stopwords**, which represent the most common words in the English language (e.g., 'the', 'and', 'your'). Such words are not helpful for our ultimate objective of theme detection through topic modelling. Note that if we were interested in, e.g., sentiment or personality, using stopwords would be a very bad idea (as pronouns are important for these concepts)! We'll use scikit-learn's default list, which contains 318 words (NLTK's contains 153). We could of course modify this list or write our own from scratch.\n",
    "\n",
    "Scikit-learn stopwords: https://github.com/scikit-learn/scikit-learn/blob/master/sklearn/feature_extraction/stop_words.py "
   ]
  },
  {
   "cell_type": "code",
   "execution_count": 51,
   "metadata": {},
   "outputs": [
    {
     "name": "stdout",
     "output_type": "stream",
     "text": [
      "Number of characters in cars corpus: 405060\n",
      "Number of characters in space corpus: 773434\n",
      "Number of characters in guns corpus: 753726\n"
     ]
    }
   ],
   "source": [
    "cars_corpus = ' '.join(cars_raw)\n",
    "cars_corpus = cars_corpus.lower()\n",
    "cars_corpus = cars_corpus.replace('\\n',' ')\n",
    "\n",
    "space_corpus = ' '.join(space_raw)\n",
    "space_corpus = space_corpus.lower()\n",
    "space_corpus = space_corpus.replace('\\n',' ')\n",
    "\n",
    "guns_corpus = ' '.join(guns_raw)\n",
    "guns_corpus = guns_corpus.lower()\n",
    "guns_corpus = guns_corpus.replace('\\n',' ')\n",
    "\n",
    "print('Number of characters in cars corpus:', len(cars_corpus))\n",
    "print('Number of characters in space corpus:', len(space_corpus))\n",
    "print('Number of characters in guns corpus:', len(guns_corpus))"
   ]
  },
  {
   "cell_type": "code",
   "execution_count": 52,
   "metadata": {},
   "outputs": [
    {
     "name": "stdout",
     "output_type": "stream",
     "text": [
      "First 1000 characters in cars corpus:\n",
      "from article <1993apr5.200048.23421@ucsu.colorado.edu>, by lorenzo@rintintin.colorado.edu (eric lorenzo):  --let me put it like this.  the only similarity between the three models   is the \"300\", or 3-liter engine displacement.  actually, the sc300 (the   coupe) and the gs300 (the funky-looking new sedan) share the same 3.0   liter inline-six, and the es300 (popular small sedan) uses 3.0 v6 shared   with the camry.  the sc300 is a luxury/sports coupe, the gs300 is the new   luxury sedan, and the es300 is the base executive sedan.  all three look   completely different.  --aamir qazi --   perhaps it is because witnesses who have left the compound have all testified that the batf shot first, they they did not identify themselves before tossing in concussion grenades (not that anyone inside could have _heard_ such identification after being near a concussion grenade) and the announcement from the batf that they have sealed the warrant under which they were operating - which was a _search_\n",
      "\n",
      "First 1000 characters in space corpus:\n",
      " any lunar satellite needs fuel to do regular orbit corrections, and when its fuel runs out it will crash within months.  the orbits of the apollo motherships changed noticeably during lunar missions lasting only a few days.  it is *possible* that there are stable orbits here and there -- the moon's gravitational field is poorly mapped -- but we know of none.  perturbations from sun and earth are relatively minor issues at low altitudes.  the big problem is that the moon's own gravitational field is quite lumpy due to the irregular distribution of mass within the moon.  glad to see griffin is spending his time on engineering rather than on ritual purification of the language.  pity he got stuck with the turkey rather than one of the sensible options.    in spite of my great respect for the people you speak of, i think their cost estimates are a bit over-optimistic. if nothing else, a working ssto is at least as complex as a large airliner and has a smaller experience base. it therefore\n",
      "\n",
      "First 1000 characters in guns corpus:\n",
      " that's a revisionist account of what happened.  gritz was well-aware of duke's presence on the ticket.  given that gritz is not at all shy about associating and promoting other white supremacists (such as the christian identity movement or willis carto), whatever reasons gritz had to leave the ticket had nothing to do with duke's presence.   i believe chip berlet has a populist party newsletter from the time with a photo of gritz happily shaking hands with duke.  having lived, played, and worked on and near the navajo reservation for a number of years, i can confirm this is an ancient pattern, found in petroglyphs dated 800 to 1200 years old.  also, the indians never stopped making rugs with this pattern - they just stopped selling them after the nazi's pre-empted the swastika.  note also that the indian versions use both clockwise and counter-clockwise swastikas.  ob guns:  it's the rare navaho family that doesn't own a rifle.  they remember being \"relocated\" by the us army, and don'\n"
     ]
    }
   ],
   "source": [
    "print('First 1000 characters in cars corpus:')\n",
    "print(cars_corpus[:1000])\n",
    "print('')\n",
    "print('First 1000 characters in space corpus:')\n",
    "print(space_corpus[:1000])\n",
    "print('')\n",
    "print('First 1000 characters in guns corpus:')\n",
    "print(guns_corpus[:1000])"
   ]
  },
  {
   "cell_type": "code",
   "execution_count": 53,
   "metadata": {},
   "outputs": [
    {
     "name": "stdout",
     "output_type": "stream",
     "text": [
      "First 100 tokens in cars corpus: ['article', 'ucsu', 'colorado', 'edu', 'lorenzo', 'rintintin', 'colorado', 'edu', 'eric', 'lorenzo', 'let', 'like', 'similarity', 'models', 'liter', 'engine', 'displacement', 'actually', 'coupe', 'funky', 'looking', 'new', 'sedan', 'share', 'liter', 'inline', 'popular', 'small', 'sedan', 'uses', 'shared', 'camry', 'luxury', 'sports', 'coupe', 'new', 'luxury', 'sedan', 'base', 'executive', 'sedan', 'look', 'completely', 'different', 'aamir', 'qazi', 'witnesses', 'left', 'compound', 'testified', 'batf', 'shot', 'did', 'identify', 'tossing', 'concussion', 'grenades', 'inside', 'identification', 'near', 'concussion', 'grenade', 'announcement', 'batf', 'sealed', 'warrant', 'operating', 'warrant', 'way', 'arrest', 'warrant', 'short', 'batf', 'wildly', 'control', 'calmer', 'heads', 'realized', 'bombing', 'compound', 'woman', 'children', 'improve', 'position', 'real', 'chance', 'koresh', 'able', 'prove', 'self', 'defense', 'court', 'leave', 'officers', 'dead', 'blame', 'batf', 'followups', 'directed', 'alt']\n",
      "First 100 tokens in space corpus: ['lunar', 'satellite', 'needs', 'fuel', 'regular', 'orbit', 'corrections', 'fuel', 'runs', 'crash', 'months', 'orbits', 'apollo', 'motherships', 'changed', 'noticeably', 'lunar', 'missions', 'lasting', 'days', 'possible', 'stable', 'orbits', 'moon', 'gravitational', 'field', 'poorly', 'mapped', 'know', 'perturbations', 'sun', 'earth', 'relatively', 'minor', 'issues', 'low', 'altitudes', 'big', 'problem', 'moon', 'gravitational', 'field', 'quite', 'lumpy', 'irregular', 'distribution', 'mass', 'moon', 'glad', 'griffin', 'spending', 'time', 'engineering', 'ritual', 'purification', 'language', 'pity', 'got', 'stuck', 'turkey', 'sensible', 'options', 'spite', 'great', 'respect', 'people', 'speak', 'think', 'cost', 'estimates', 'bit', 'optimistic', 'working', 'ssto', 'complex', 'large', 'airliner', 'smaller', 'experience', 'base', 'ssto', 'development', 'cost', 'typical', 'airliner', 'development', 'puts', 'range', 'true', 'contest', 'result', 'larger', 'market', 'don', 'think', 'attract', 'investors', 'given', 'risks', 'involved']\n",
      "First 100 tokens in guns corpus: ['revisionist', 'account', 'happened', 'gritz', 'aware', 'duke', 'presence', 'ticket', 'given', 'gritz', 'shy', 'associating', 'promoting', 'white', 'supremacists', 'christian', 'identity', 'movement', 'willis', 'carto', 'reasons', 'gritz', 'leave', 'ticket', 'duke', 'presence', 'believe', 'chip', 'berlet', 'populist', 'party', 'newsletter', 'time', 'photo', 'gritz', 'happily', 'shaking', 'hands', 'duke', 'having', 'lived', 'played', 'worked', 'near', 'navajo', 'reservation', 'number', 'years', 'confirm', 'ancient', 'pattern', 'petroglyphs', 'dated', 'years', 'old', 'indians', 'stopped', 'making', 'rugs', 'pattern', 'just', 'stopped', 'selling', 'nazi', 'pre', 'empted', 'swastika', 'note', 'indian', 'versions', 'use', 'clockwise', 'counter', 'clockwise', 'swastikas', 'guns', 'rare', 'navaho', 'family', 'doesn', 'rifle', 'remember', 'relocated', 'army', 'don', 'intend', 'hopi', 'hand', 'dislike', 'weapons', 'experience', 'just', 'hide', 'better', 'strangers', 'course', 'criminal', 'hang', 'criminals', 'flash']\n"
     ]
    }
   ],
   "source": [
    "tokenized_cars = CountVectorizer(token_pattern=r'\\b[A-Za-z]{3,}\\b').build_tokenizer()(cars_corpus)\n",
    "tokenized_cars = [word for word in tokenized_cars if word not in stop_words.ENGLISH_STOP_WORDS]\n",
    "\n",
    "tokenized_space = CountVectorizer(token_pattern=r'\\b[A-Za-z]{3,}\\b').build_tokenizer()(space_corpus)\n",
    "tokenized_space = [word for word in tokenized_space if word not in stop_words.ENGLISH_STOP_WORDS]\n",
    "\n",
    "tokenized_guns = CountVectorizer(token_pattern=r'\\b[A-Za-z]{3,}\\b').build_tokenizer()(guns_corpus)\n",
    "tokenized_guns = [word for word in tokenized_guns if word not in stop_words.ENGLISH_STOP_WORDS]\n",
    "\n",
    "print('First 100 tokens in cars corpus:', tokenized_cars[:100])\n",
    "print('First 100 tokens in space corpus:', tokenized_space[:100])\n",
    "print('First 100 tokens in guns corpus:', tokenized_guns[:100])"
   ]
  },
  {
   "cell_type": "markdown",
   "metadata": {},
   "source": [
    "Tokenization allows us to count the total number of words (tokens) in each corpus, as well as the total number of *unique* words (types) in each corpus using a Python set."
   ]
  },
  {
   "cell_type": "code",
   "execution_count": 54,
   "metadata": {},
   "outputs": [
    {
     "name": "stdout",
     "output_type": "stream",
     "text": [
      "Number of tokens in cars corpus: 30924\n",
      "Number of tokens in space corpus: 61506\n",
      "Number of tokens in guns corpus: 54549\n"
     ]
    }
   ],
   "source": [
    "print('Number of tokens in cars corpus:', len(tokenized_cars))\n",
    "print('Number of tokens in space corpus:', len(tokenized_space))\n",
    "print('Number of tokens in guns corpus:', len(tokenized_guns))"
   ]
  },
  {
   "cell_type": "code",
   "execution_count": 55,
   "metadata": {},
   "outputs": [
    {
     "name": "stdout",
     "output_type": "stream",
     "text": [
      "Number of unique tokens in cars corpus: 7213\n",
      "Number of unique tokens in space corpus 11553\n",
      "Number of unique tokens in guns corpus: 10479\n"
     ]
    }
   ],
   "source": [
    "print('Number of unique tokens in cars corpus:', len(set(tokenized_cars)))\n",
    "print('Number of unique tokens in space corpus', len(set(tokenized_space)))\n",
    "print('Number of unique tokens in guns corpus:', len(set(tokenized_guns)))"
   ]
  },
  {
   "cell_type": "markdown",
   "metadata": {},
   "source": [
    "## Stemming\n",
    "\n",
    "At the moment, words with the same root meaning such as 'car' and 'cars' are treated as separate types in our tokenized corpora. As distinguishing between these different forms is not important for topic modelling, we can simplify our tokens by **stemming** them: transforming their words into their root forms by removing affixes. This reduces the number of features, thus simplifying the model, but might not be lexicographically correct. \n",
    "\n",
    "NLTK offers three options for English words: Porter, Snowball (Porter2), and Lancaster.\n",
    "- The Porter stemming algorithm is the oldest stemming algorithm supported in NLTK, originally published in 1979. It is also the most computationally intensive. \n",
    "- The Lancaster stemming algorithm was published in 1990, and can be more aggressive than Porter; it is also the fastest. \n",
    "- The SnowballStemmer currently supports 15 languages and is nearly universally regarded as an improvement over Porter (it's in between Porter and Lancaster with regard to aggressiveness and speed).\n",
    "\n",
    "The input for these stemmers is tokenized text, which is an iterable list (not the raw text, which is a string). Let's compare their performance on our cars corpus.\n",
    "\n",
    "NLTK stemmer documentation: http://www.nltk.org/howto/stem.html"
   ]
  },
  {
   "cell_type": "code",
   "execution_count": 56,
   "metadata": {},
   "outputs": [],
   "source": [
    "porter_stemmer = PorterStemmer()\n",
    "snowball_stemmer = SnowballStemmer('english', ignore_stopwords=True)\n",
    "lancaster_stemmer = LancasterStemmer()"
   ]
  },
  {
   "cell_type": "code",
   "execution_count": 57,
   "metadata": {},
   "outputs": [
    {
     "name": "stdout",
     "output_type": "stream",
     "text": [
      "First 100 tokens from Porter stemmer: ['articl', 'ucsu', 'colorado', 'edu', 'lorenzo', 'rintintin', 'colorado', 'edu', 'eric', 'lorenzo', 'let', 'like', 'similar', 'model', 'liter', 'engin', 'displac', 'actual', 'coup', 'funki', 'look', 'new', 'sedan', 'share', 'liter', 'inlin', 'popular', 'small', 'sedan', 'use', 'share', 'camri', 'luxuri', 'sport', 'coup', 'new', 'luxuri', 'sedan', 'base', 'execut', 'sedan', 'look', 'complet', 'differ', 'aamir', 'qazi', 'wit', 'left', 'compound', 'testifi', 'batf', 'shot', 'did', 'identifi', 'toss', 'concuss', 'grenad', 'insid', 'identif', 'near', 'concuss', 'grenad', 'announc', 'batf', 'seal', 'warrant', 'oper', 'warrant', 'way', 'arrest', 'warrant', 'short', 'batf', 'wildli', 'control', 'calmer', 'head', 'realiz', 'bomb', 'compound', 'woman', 'children', 'improv', 'posit', 'real', 'chanc', 'koresh', 'abl', 'prove', 'self', 'defens', 'court', 'leav', 'offic', 'dead', 'blame', 'batf', 'followup', 'direct', 'alt']\n",
      "Number of unique tokens after Porter stemming: 5265\n",
      "\n",
      "First 100 tokens from Snowball stemmer: ['articl', 'ucsu', 'colorado', 'edu', 'lorenzo', 'rintintin', 'colorado', 'edu', 'eric', 'lorenzo', 'let', 'like', 'similar', 'model', 'liter', 'engin', 'displac', 'actual', 'coup', 'funki', 'look', 'new', 'sedan', 'share', 'liter', 'inlin', 'popular', 'small', 'sedan', 'use', 'share', 'camri', 'luxuri', 'sport', 'coup', 'new', 'luxuri', 'sedan', 'base', 'execut', 'sedan', 'look', 'complet', 'differ', 'aamir', 'qazi', 'wit', 'left', 'compound', 'testifi', 'batf', 'shot', 'did', 'identifi', 'toss', 'concuss', 'grenad', 'insid', 'identif', 'near', 'concuss', 'grenad', 'announc', 'batf', 'seal', 'warrant', 'oper', 'warrant', 'way', 'arrest', 'warrant', 'short', 'batf', 'wild', 'control', 'calmer', 'head', 'realiz', 'bomb', 'compound', 'woman', 'children', 'improv', 'posit', 'real', 'chanc', 'koresh', 'abl', 'prove', 'self', 'defens', 'court', 'leav', 'offic', 'dead', 'blame', 'batf', 'followup', 'direct', 'alt']\n",
      "Number of unique tokens after Snowball stemming: 5211\n",
      "\n",
      "First 100 tokens from Lancaster stemmer: ['artic', 'ucsu', 'colorado', 'edu', 'lorenzo', 'rintintin', 'colorado', 'edu', 'er', 'lorenzo', 'let', 'lik', 'simil', 'model', 'lit', 'engin', 'displac', 'act', 'coup', 'funky', 'look', 'new', 'sed', 'shar', 'lit', 'inlin', 'popul', 'smal', 'sed', 'us', 'shar', 'camry', 'luxury', 'sport', 'coup', 'new', 'luxury', 'sed', 'bas', 'execut', 'sed', 'look', 'complet', 'diff', 'aamir', 'qaz', 'wit', 'left', 'compound', 'test', 'batf', 'shot', 'did', 'ident', 'toss', 'concuss', 'grenad', 'insid', 'id', 'near', 'concuss', 'grenad', 'annount', 'batf', 'seal', 'war', 'op', 'war', 'way', 'arrest', 'war', 'short', 'batf', 'wild', 'control', 'calm', 'head', 'real', 'bomb', 'compound', 'wom', 'childr', 'improv', 'posit', 'real', 'chant', 'koresh', 'abl', 'prov', 'self', 'defens', 'court', 'leav', 'off', 'dead', 'blam', 'batf', 'followup', 'direct', 'alt']\n",
      "Number of unique tokens after Lancaster stemming: 4572\n"
     ]
    }
   ],
   "source": [
    "tokenized_cars_porter = [porter_stemmer.stem(w) for w in tokenized_cars]\n",
    "print('First 100 tokens from Porter stemmer:', tokenized_cars_porter[:100])\n",
    "print('Number of unique tokens after Porter stemming:', len(set(tokenized_cars_porter)))\n",
    "print('')\n",
    "tokenized_cars_snowball = [snowball_stemmer.stem(w) for w in tokenized_cars]\n",
    "print('First 100 tokens from Snowball stemmer:', tokenized_cars_snowball[:100])\n",
    "print('Number of unique tokens after Snowball stemming:', len(set(tokenized_cars_snowball)))\n",
    "print('')\n",
    "tokenized_cars_lancaster = [lancaster_stemmer.stem(w) for w in tokenized_cars]\n",
    "print('First 100 tokens from Lancaster stemmer:', tokenized_cars_lancaster[:100])\n",
    "print('Number of unique tokens after Lancaster stemming:', len(set(tokenized_cars_lancaster)))"
   ]
  },
  {
   "cell_type": "markdown",
   "metadata": {},
   "source": [
    "## Part-of-speech (PoS) tagging and lemmatizing\n",
    "\n",
    "As all linguists are well aware, stemming can create non-real words, such as 'thu' from 'thus'. **Lemmatization** aims to obtain the canonical (lexicographically/grammatically correct) form of the root word, the so-called *lemma*. Lemmatization is computationally more difficult and expensive than stemming, as it requires PoS tags. NLTK's lemmatizer is trained on WordNet, an English lexical database: http://www.nltk.org/_modules/nltk/corpus/reader/wordnet.html \n",
    "\n",
    "It is also useful to examine the **PoS categories** in and of themselves - they represent a level above that of specific words (types). Which words are most popular in any given PoS category? What is the frequency of different PoS categories in different corpora? NLTK's default PoS tagger uses tags from the Penn Treebank project: https://www.ling.upenn.edu/courses/Fall_2003/ling001/penn_treebank_pos.html"
   ]
  },
  {
   "cell_type": "code",
   "execution_count": 58,
   "metadata": {},
   "outputs": [
    {
     "name": "stdout",
     "output_type": "stream",
     "text": [
      "First ten PoS-tagged tokens in cars corpus: [('article', 'NN'), ('ucsu', 'JJ'), ('colorado', 'NN'), ('edu', 'NN'), ('lorenzo', 'NN'), ('rintintin', 'NN'), ('colorado', 'NN'), ('edu', 'NN'), ('eric', 'JJ'), ('lorenzo', 'JJ')]\n",
      "First ten PoS-tagged tokens in space corpus: [('lunar', 'NN'), ('satellite', 'NN'), ('needs', 'VBZ'), ('fuel', 'NN'), ('regular', 'JJ'), ('orbit', 'NN'), ('corrections', 'NNS'), ('fuel', 'NN'), ('runs', 'VBZ'), ('crash', 'JJ')]\n",
      "First ten PoS-tagged tokens in guns corpus: [('revisionist', 'NN'), ('account', 'NN'), ('happened', 'VBD'), ('gritz', 'NNS'), ('aware', 'JJ'), ('duke', 'JJ'), ('presence', 'NN'), ('ticket', 'NN'), ('given', 'VBN'), ('gritz', 'JJ')]\n"
     ]
    }
   ],
   "source": [
    "tokenized_cars_pos = nltk.pos_tag(tokenized_cars)\n",
    "tokenized_space_pos = nltk.pos_tag(tokenized_space)\n",
    "tokenized_guns_pos = nltk.pos_tag(tokenized_guns)\n",
    "\n",
    "print('First ten PoS-tagged tokens in cars corpus:', tokenized_cars_pos[:10])\n",
    "print('First ten PoS-tagged tokens in space corpus:', tokenized_space_pos[:10])\n",
    "print('First ten PoS-tagged tokens in guns corpus:', tokenized_guns_pos[:10])"
   ]
  },
  {
   "cell_type": "code",
   "execution_count": 59,
   "metadata": {},
   "outputs": [],
   "source": [
    "lemmatizer = nltk.stem.WordNetLemmatizer()\n",
    "\n",
    "def lemmatize(token, tag):\n",
    "    tag = {\n",
    "        'N': wn.NOUN,\n",
    "        'V': wn.VERB,\n",
    "        'R': wn.ADV,\n",
    "        'J': wn.ADJ\n",
    "    }.get(tag[0], wn.NOUN)\n",
    "    return lemmatizer.lemmatize(token, tag) "
   ]
  },
  {
   "cell_type": "code",
   "execution_count": 60,
   "metadata": {},
   "outputs": [
    {
     "name": "stdout",
     "output_type": "stream",
     "text": [
      "First 100 tokens from lemmatization: ['article', 'ucsu', 'colorado', 'edu', 'lorenzo', 'rintintin', 'colorado', 'edu', 'eric', 'lorenzo', 'let', 'like', 'similarity', 'model', 'liter', 'engine', 'displacement', 'actually', 'coupe', 'funky', 'look', 'new', 'sedan', 'share', 'liter', 'inline', 'popular', 'small', 'sedan', 'us', 'share', 'camry', 'luxury', 'sport', 'coupe', 'new', 'luxury', 'sedan', 'base', 'executive', 'sedan', 'look', 'completely', 'different', 'aamir', 'qazi', 'witness', 'leave', 'compound', 'testify', 'batf', 'shot', 'do', 'identify', 'toss', 'concussion', 'grenade', 'inside', 'identification', 'near', 'concussion', 'grenade', 'announcement', 'batf', 'seal', 'warrant', 'operate', 'warrant', 'way', 'arrest', 'warrant', 'short', 'batf', 'wildly', 'control', 'calm', 'head', 'realize', 'bomb', 'compound', 'woman', 'child', 'improve', 'position', 'real', 'chance', 'koresh', 'able', 'prove', 'self', 'defense', 'court', 'leave', 'officer', 'dead', 'blame', 'batf', 'followup', 'direct', 'alt']\n",
      "Number of unique tokens after lemmatization: 5940\n"
     ]
    }
   ],
   "source": [
    "tokenized_cars_lemmas = []\n",
    "\n",
    "for token, pos in tokenized_cars_pos:\n",
    "    try:\n",
    "        tokenized_cars_lemmas.append(lemmatize(token, pos))\n",
    "    except KeyError:\n",
    "        tokenized_cars_lemmas.append(token)\n",
    "\n",
    "print('First 100 tokens from lemmatization:', tokenized_cars_lemmas[:100])\n",
    "print('Number of unique tokens after lemmatization:', len(set(tokenized_cars_lemmas)))"
   ]
  },
  {
   "cell_type": "code",
   "execution_count": 61,
   "metadata": {},
   "outputs": [
    {
     "name": "stdout",
     "output_type": "stream",
     "text": [
      "First 100 tokens from lemmatization: ['lunar', 'satellite', 'need', 'fuel', 'regular', 'orbit', 'correction', 'fuel', 'run', 'crash', 'month', 'orbit', 'apollo', 'motherships', 'change', 'noticeably', 'lunar', 'mission', 'last', 'day', 'possible', 'stable', 'orbit', 'moon', 'gravitational', 'field', 'poorly', 'map', 'know', 'perturbation', 'sun', 'earth', 'relatively', 'minor', 'issue', 'low', 'altitude', 'big', 'problem', 'moon', 'gravitational', 'field', 'quite', 'lumpy', 'irregular', 'distribution', 'mass', 'moon', 'glad', 'griffin', 'spending', 'time', 'engineering', 'ritual', 'purification', 'language', 'pity', 'get', 'stuck', 'turkey', 'sensible', 'option', 'spite', 'great', 'respect', 'people', 'speak', 'think', 'cost', 'estimate', 'bite', 'optimistic', 'work', 'ssto', 'complex', 'large', 'airliner', 'small', 'experience', 'base', 'ssto', 'development', 'cost', 'typical', 'airliner', 'development', 'put', 'range', 'true', 'contest', 'result', 'large', 'market', 'don', 'think', 'attract', 'investor', 'give', 'risk', 'involve']\n",
      "Number of unique tokens after lemmatization: 9578\n"
     ]
    }
   ],
   "source": [
    "tokenized_space_lemmas = []\n",
    "\n",
    "for token, pos in tokenized_space_pos:\n",
    "    try:\n",
    "        tokenized_space_lemmas.append(lemmatize(token, pos))\n",
    "    except KeyError:\n",
    "        tokenized_space_lemmas.append(token)\n",
    "\n",
    "print('First 100 tokens from lemmatization:', tokenized_space_lemmas[:100])\n",
    "print('Number of unique tokens after lemmatization:', len(set(tokenized_space_lemmas)))"
   ]
  },
  {
   "cell_type": "code",
   "execution_count": 62,
   "metadata": {},
   "outputs": [
    {
     "name": "stdout",
     "output_type": "stream",
     "text": [
      "First 100 tokens from lemmatization: ['revisionist', 'account', 'happen', 'gritz', 'aware', 'duke', 'presence', 'ticket', 'give', 'gritz', 'shy', 'associate', 'promote', 'white', 'supremacist', 'christian', 'identity', 'movement', 'willis', 'carto', 'reason', 'gritz', 'leave', 'ticket', 'duke', 'presence', 'believe', 'chip', 'berlet', 'populist', 'party', 'newsletter', 'time', 'photo', 'gritz', 'happily', 'shake', 'hand', 'duke', 'have', 'live', 'played', 'work', 'near', 'navajo', 'reservation', 'number', 'year', 'confirm', 'ancient', 'pattern', 'petroglyph', 'date', 'year', 'old', 'indian', 'stop', 'make', 'rugs', 'pattern', 'just', 'stop', 'sell', 'nazi', 'pre', 'empted', 'swastika', 'note', 'indian', 'version', 'use', 'clockwise', 'counter', 'clockwise', 'swastika', 'gun', 'rare', 'navaho', 'family', 'doesn', 'rifle', 'remember', 'relocated', 'army', 'don', 'intend', 'hopi', 'hand', 'dislike', 'weapon', 'experience', 'just', 'hide', 'good', 'stranger', 'course', 'criminal', 'hang', 'criminal', 'flash']\n",
      "Number of unique tokens after lemmatization: 8625\n"
     ]
    }
   ],
   "source": [
    "tokenized_guns_lemmas = []\n",
    "\n",
    "for token, pos in tokenized_guns_pos:\n",
    "    try:\n",
    "        tokenized_guns_lemmas.append(lemmatize(token, pos))\n",
    "    except KeyError:\n",
    "        tokenized_guns_lemmas.append(token)\n",
    "\n",
    "print('First 100 tokens from lemmatization:', tokenized_guns_lemmas[:100])\n",
    "print('Number of unique tokens after lemmatization:', len(set(tokenized_guns_lemmas)))"
   ]
  },
  {
   "cell_type": "markdown",
   "metadata": {},
   "source": [
    "Let's rank the frequencies of the different PoS tags in each corpus, and plot the frequencies to visually compare them."
   ]
  },
  {
   "cell_type": "code",
   "execution_count": 63,
   "metadata": {},
   "outputs": [
    {
     "name": "stdout",
     "output_type": "stream",
     "text": [
      "Most common PoS tags in cars corpus: [('NN', 11853), ('JJ', 5792), ('NNS', 3849), ('VBP', 1912), ('RB', 1750), ('VBD', 1458), ('VBG', 1430), ('VBN', 779), ('VBZ', 617), ('VB', 530), ('IN', 434), ('JJR', 187), ('RBR', 111), ('JJS', 87), ('NNP', 29), ('FW', 28), ('CC', 16), ('MD', 16), ('CD', 15), ('RP', 9), ('RBS', 6), ('PRP', 4), ('UH', 3), ('WDT', 3), ('WP', 3), ('WRB', 1), ('EX', 1), ('DT', 1)]\n",
      "\n",
      "Most common PoS tags in space corpus: [('NN', 24556), ('JJ', 12887), ('NNS', 8016), ('VBP', 3512), ('VBD', 2568), ('RB', 2553), ('VBG', 2448), ('VBN', 1567), ('VBZ', 1186), ('IN', 722), ('VB', 604), ('JJR', 224), ('RBR', 173), ('JJS', 138), ('CD', 131), ('FW', 72), ('NNP', 67), ('CC', 25), ('RP', 13), ('MD', 11), ('RBS', 10), ('PRP', 6), ('WP', 4), ('WDT', 3), ('DT', 3), ('WRB', 2), ('UH', 2), ('NNPS', 1), ('PRP$', 1), ('EX', 1)]\n",
      "\n",
      "Most common PoS tags in guns corpus: [('NN', 20403), ('JJ', 10679), ('NNS', 7381), ('VBP', 3246), ('VBD', 2883), ('RB', 2636), ('VBG', 2448), ('VBN', 1676), ('VBZ', 1016), ('VB', 819), ('IN', 624), ('JJR', 166), ('RBR', 123), ('JJS', 83), ('FW', 69), ('NNP', 65), ('MD', 61), ('CD', 60), ('PRP', 27), ('RP', 23), ('WDT', 20), ('CC', 17), ('WP', 8), ('UH', 5), ('RBS', 5), ('WRB', 3), ('NNPS', 1), ('DT', 1), ('PRP$', 1)]\n"
     ]
    }
   ],
   "source": [
    "cars_tag_fd = nltk.FreqDist(tag for (word, tag) in tokenized_cars_pos)\n",
    "space_tag_fd = nltk.FreqDist(tag for (word, tag) in tokenized_space_pos)\n",
    "guns_tag_fd = nltk.FreqDist(tag for (word, tag) in tokenized_guns_pos)\n",
    "\n",
    "print('Most common PoS tags in cars corpus:', cars_tag_fd.most_common())\n",
    "print('')\n",
    "print('Most common PoS tags in space corpus:', space_tag_fd.most_common())\n",
    "print('')\n",
    "print('Most common PoS tags in guns corpus:', guns_tag_fd.most_common())"
   ]
  },
  {
   "cell_type": "code",
   "execution_count": 64,
   "metadata": {},
   "outputs": [
    {
     "data": {
      "image/png": "[encoded data removed]",
      "text/plain": [
       "<Figure size 1080x360 with 1 Axes>"
      ]
     },
     "metadata": {},
     "output_type": "display_data"
    },
    {
     "data": {
      "image/png": "[encoded data removed]",
      "text/plain": [
       "<Figure size 1080x360 with 1 Axes>"
      ]
     },
     "metadata": {},
     "output_type": "display_data"
    },
    {
     "data": {
      "image/png": "[encoded data removed]",
      "text/plain": [
       "<Figure size 1080x360 with 1 Axes>"
      ]
     },
     "metadata": {},
     "output_type": "display_data"
    }
   ],
   "source": [
    "plt.style.use('seaborn')\n",
    "\n",
    "plt.figure(figsize=(15, 5))\n",
    "plt.title('PoS Tag Frequencies in Cars Corpus')\n",
    "cars_tag_fd.plot()\n",
    "\n",
    "plt.figure(figsize=(15, 5))\n",
    "plt.title('PoS Tag Frequencies in Space Corpus')\n",
    "space_tag_fd.plot()\n",
    "\n",
    "plt.figure(figsize=(15, 5))\n",
    "plt.title('PoS Tag Frequencies in Guns Corpus')\n",
    "guns_tag_fd.plot()"
   ]
  },
  {
   "cell_type": "markdown",
   "metadata": {},
   "source": [
    "Using the PoS tag, we can filter for only one lexical category (e.g., nouns). To compare its frequency across corpora, we can calculate the proportion of words with the tag in the corpora."
   ]
  },
  {
   "cell_type": "code",
   "execution_count": 65,
   "metadata": {},
   "outputs": [
    {
     "name": "stdout",
     "output_type": "stream",
     "text": [
      "Proportion of nouns in cars corpus: 0.5086987453110853\n",
      "First ten nouns in cars corpus: [('article', 'NN'), ('colorado', 'NN'), ('edu', 'NN'), ('lorenzo', 'NN'), ('rintintin', 'NN'), ('colorado', 'NN'), ('edu', 'NN'), ('let', 'NN'), ('similarity', 'NN'), ('models', 'NNS')]\n",
      "Proportion of nouns in space corpus: 0.5306799336650083\n",
      "First ten nouns in space corpus: [('lunar', 'NN'), ('satellite', 'NN'), ('fuel', 'NN'), ('orbit', 'NN'), ('corrections', 'NNS'), ('fuel', 'NN'), ('months', 'NNS'), ('orbits', 'NNS'), ('motherships', 'NNS'), ('missions', 'NNS')]\n",
      "Proportion of nouns in guns corpus: 0.5105501475737411\n",
      "First ten nouns in guns corpus: [('revisionist', 'NN'), ('account', 'NN'), ('gritz', 'NNS'), ('presence', 'NN'), ('ticket', 'NN'), ('supremacists', 'NNS'), ('identity', 'NN'), ('movement', 'NN'), ('willis', 'NN'), ('carto', 'NN')]\n"
     ]
    }
   ],
   "source": [
    "cars_corpus_nouns = [(token, pos) for token, pos in tokenized_cars_pos if pos.startswith('N')]\n",
    "space_corpus_nouns = [(token, pos) for token, pos in tokenized_space_pos if pos.startswith('N')]\n",
    "guns_corpus_nouns = [(token, pos) for token, pos in tokenized_guns_pos if pos.startswith('N')]\n",
    "\n",
    "print('Proportion of nouns in cars corpus:', len(cars_corpus_nouns)/len(tokenized_cars))\n",
    "print('First ten nouns in cars corpus:', cars_corpus_nouns[:10])\n",
    "print('Proportion of nouns in space corpus:', len(space_corpus_nouns)/len(tokenized_space))\n",
    "print('First ten nouns in space corpus:', space_corpus_nouns[:10])\n",
    "print('Proportion of nouns in guns corpus:', len(guns_corpus_nouns)/len(tokenized_guns))\n",
    "print('First ten nouns in guns corpus:', guns_corpus_nouns[:10])"
   ]
  },
  {
   "cell_type": "markdown",
   "metadata": {
    "collapsed": true
   },
   "source": [
    "## Word-level calculations\n",
    "\n",
    "Tokenization allows us to count the words (tokens) in a text in a variety of different ways. We have already counted the total number of tokens and types (unique tokens) in each corpus. From these counts, we can write our own function to calculate *lexical richness*: the number of types (unique words) divided by the number of tokens (total words). We can use the lemmatized corpora to group words together that have the same root meaning, as they do not increase semantic diversity."
   ]
  },
  {
   "cell_type": "code",
   "execution_count": 66,
   "metadata": {
    "scrolled": true
   },
   "outputs": [
    {
     "name": "stdout",
     "output_type": "stream",
     "text": [
      "Lexical diversity of cars corpus: 0.1920838183934808\n",
      "Lexical diversity of space corpus: 0.15572464475010567\n",
      "Lexical diversity of guns corpus: 0.1581147225430347\n"
     ]
    }
   ],
   "source": [
    "def lexical_diversity(corpus):\n",
    "    return len(set(corpus))/len(corpus)\n",
    "\n",
    "print('Lexical diversity of cars corpus:', lexical_diversity(tokenized_cars_lemmas))\n",
    "print('Lexical diversity of space corpus:', lexical_diversity(tokenized_space_lemmas))\n",
    "print('Lexical diversity of guns corpus:', lexical_diversity(tokenized_guns_lemmas))"
   ]
  },
  {
   "cell_type": "markdown",
   "metadata": {},
   "source": [
    "Now let's examine the frequency of specific words (types) in the forum posts. After we generate the frequency distribution, we can see what the most common words are in each corpus. We can also display the PoS categories of the most common words, and sort the words within a certain PoS category by frequency: e.g., what are the most popular *nouns* in each corpus? Again, we will use the lemmatized corpora to group words together that have the same root meaning."
   ]
  },
  {
   "cell_type": "code",
   "execution_count": 67,
   "metadata": {},
   "outputs": [],
   "source": [
    "fdist_cars = FreqDist(tokenized_cars_lemmas)\n",
    "fdist_space = FreqDist(tokenized_space_lemmas)\n",
    "fdist_guns = FreqDist(tokenized_guns_lemmas)"
   ]
  },
  {
   "cell_type": "code",
   "execution_count": 68,
   "metadata": {},
   "outputs": [
    {
     "name": "stdout",
     "output_type": "stream",
     "text": [
      "719\n",
      "990\n",
      "869\n"
     ]
    }
   ],
   "source": [
    "print(fdist_cars['car'])\n",
    "print(fdist_space['space'])\n",
    "print(fdist_guns['gun'])"
   ]
  },
  {
   "cell_type": "code",
   "execution_count": 69,
   "metadata": {},
   "outputs": [
    {
     "name": "stdout",
     "output_type": "stream",
     "text": [
      "Most frequent words in cars corpus: [('car', 719), ('like', 211), ('just', 189), ('use', 189), ('do', 171), ('don', 169), ('good', 168), ('drive', 167), ('think', 149), ('time', 148), ('know', 140), ('new', 138), ('engine', 137), ('year', 132), ('look', 130), ('say', 127), ('get', 125), ('make', 116), ('go', 116), ('buy', 112)]\n",
      "Most frequent words in space corpus: [('space', 990), ('launch', 390), ('nasa', 374), ('use', 309), ('satellite', 287), ('year', 277), ('orbit', 260), ('time', 245), ('like', 226), ('mission', 225), ('earth', 222), ('data', 216), ('program', 201), ('shuttle', 196), ('do', 194), ('know', 192), ('just', 189), ('think', 185), ('lunar', 182), ('moon', 174)]\n",
      "Most frequent words in guns corpus: [('gun', 869), ('people', 393), ('use', 332), ('weapon', 327), ('file', 324), ('firearm', 320), ('state', 308), ('law', 304), ('right', 296), ('say', 261), ('do', 261), ('don', 255), ('time', 226), ('think', 224), ('know', 218), ('make', 216), ('crime', 202), ('control', 200), ('government', 194), ('like', 191)]\n"
     ]
    }
   ],
   "source": [
    "print('Most frequent words in cars corpus:', fdist_cars.most_common(20))\n",
    "print('Most frequent words in space corpus:', fdist_space.most_common(20))\n",
    "print('Most frequent words in guns corpus:', fdist_guns.most_common(20))"
   ]
  },
  {
   "cell_type": "code",
   "execution_count": 70,
   "metadata": {},
   "outputs": [
    {
     "name": "stdout",
     "output_type": "stream",
     "text": [
      "Most frequent words and their PoS in cars corpus: [(('car', 'NN'), 515), (('cars', 'NNS'), 204), (('like', 'IN'), 197), (('just', 'RB'), 189), (('good', 'JJ'), 147), (('new', 'JJ'), 129), (('engine', 'NN'), 125), (('time', 'NN'), 108), (('oil', 'NN'), 84), (('think', 'VBP'), 82), (('people', 'NNS'), 80), (('does', 'VBZ'), 80), (('problem', 'NN'), 79), (('speed', 'NN'), 79), (('don', 'NN'), 76), (('really', 'RB'), 75), (('year', 'NN'), 74), (('dealer', 'NN'), 73), (('com', 'NN'), 72), (('know', 'VBP'), 70)]\n",
      "Most frequent words and their PoS in space corpus: [(('space', 'NN'), 989), (('like', 'IN'), 220), (('nasa', 'JJ'), 218), (('time', 'NN'), 197), (('data', 'NNS'), 196), (('just', 'RB'), 189), (('launch', 'NN'), 163), (('orbit', 'NN'), 160), (('new', 'JJ'), 158), (('program', 'NN'), 156), (('year', 'NN'), 146), (('people', 'NNS'), 142), (('earth', 'NN'), 139), (('mission', 'NN'), 137), (('moon', 'NN'), 134), (('years', 'NNS'), 131), (('information', 'NN'), 127), (('available', 'JJ'), 125), (('center', 'NN'), 115), (('flight', 'NN'), 112)]\n",
      "Most frequent words and their PoS in guns corpus: [(('gun', 'NN'), 411), (('people', 'NNS'), 392), (('law', 'NN'), 206), (('firearms', 'NNS'), 203), (('guns', 'NNS'), 202), (('just', 'RB'), 190), (('weapons', 'NNS'), 190), (('like', 'IN'), 188), (('file', 'NN'), 182), (('government', 'NN'), 174), (('control', 'NN'), 172), (('time', 'NN'), 157), (('crime', 'NN'), 157), (('state', 'NN'), 150), (('think', 'VBP'), 144), (('did', 'VBD'), 129), (('use', 'NN'), 120), (('good', 'JJ'), 118), (('states', 'NNS'), 118), (('don', 'NN'), 116)]\n"
     ]
    }
   ],
   "source": [
    "cars_type_tag_fd = nltk.FreqDist(tokenized_cars_pos)\n",
    "space_type_tag_fd = nltk.FreqDist(tokenized_space_pos)\n",
    "guns_type_tag_fd = nltk.FreqDist(tokenized_guns_pos)\n",
    "\n",
    "print('Most frequent words and their PoS in cars corpus:', cars_type_tag_fd.most_common(20))\n",
    "print('Most frequent words and their PoS in space corpus:', space_type_tag_fd.most_common(20))\n",
    "print('Most frequent words and their PoS in guns corpus:', guns_type_tag_fd.most_common(20))"
   ]
  },
  {
   "cell_type": "code",
   "execution_count": 71,
   "metadata": {},
   "outputs": [
    {
     "name": "stdout",
     "output_type": "stream",
     "text": [
      "Most popular nouns in cars corpus: ['car', 'engine', 'time', 'oil', 'problem', 'speed', 'don', 'year', 'dealer', 'com']\n",
      "Most popular nouns in space corpus: ['space', 'time', 'launch', 'orbit', 'program', 'year', 'earth', 'mission', 'moon', 'information']\n",
      "Most popular nouns in guns corpus: ['gun', 'law', 'file', 'government', 'control', 'time', 'crime', 'state', 'use', 'don']\n"
     ]
    }
   ],
   "source": [
    "print('Most popular nouns in cars corpus:', [typetag[0] for (typetag, _) in cars_type_tag_fd.most_common() if typetag[1] == 'NN'][:10])\n",
    "print('Most popular nouns in space corpus:', [typetag[0] for (typetag, _) in space_type_tag_fd.most_common() if typetag[1] == 'NN'][:10])\n",
    "print('Most popular nouns in guns corpus:', [typetag[0] for (typetag, _) in guns_type_tag_fd.most_common() if typetag[1] == 'NN'][:10])"
   ]
  },
  {
   "cell_type": "markdown",
   "metadata": {},
   "source": [
    "Now let's look at some more peculiar words: those that appear only once (hapax legomena), those that are extremely long, and those that are both long and frequently occurring. Such words often add a different perspective on a corpus of text (they're a bit like linguistic outliers!)."
   ]
  },
  {
   "cell_type": "code",
   "execution_count": 72,
   "metadata": {},
   "outputs": [
    {
     "name": "stdout",
     "output_type": "stream",
     "text": [
      "Number of hapax legomena in cars corpus: 2962\n",
      "Number of hapax legomena in space corpus: 4532\n",
      "Number of hapax legomena in guns corpus: 4372\n"
     ]
    }
   ],
   "source": [
    "print('Number of hapax legomena in cars corpus:', len(fdist_cars.hapaxes()))\n",
    "print('Number of hapax legomena in space corpus:', len(fdist_space.hapaxes()))\n",
    "print('Number of hapax legomena in guns corpus:', len(fdist_guns.hapaxes()))"
   ]
  },
  {
   "cell_type": "code",
   "execution_count": 73,
   "metadata": {},
   "outputs": [
    {
     "name": "stdout",
     "output_type": "stream",
     "text": [
      "First 20 hapax legomena in cars corpus: ['rider', 'harp', 'seemingly', 'decant', 'fame', 'subsitutes', 'followups', 'valves', 'aol', 'prize', 'hpfctjc', 'misnomer', 'avoids', 'detest', 'times', 'astonishingly', 'bogus', 'mis', 'aeroplan', 'achieva']\n",
      "First 20 hapax legomena in space corpus: ['specification', 'storable', 'competetive', 'indicative', 'ethiopia', 'ecs', 'databases', 'vehilce', 'annuli', 'alas', 'emacs', 'essay', 'microsatellites', 'mmt', 'mighty', 'mainly', 'coup', 'telepathy', 'echter', 'harry']\n",
      "First 20 hapax legomena in guns corpus: ['totc', 'zmp', 'wannabee', 'tfjs', 'emacs', 'harp', 'cmaeras', 'breakthrough', 'janette', 'bran', 'dedicate', 'regimen', 'arthritis', 'hwq', 'watched', 'neg', 'aol', 'notably', 'prize', 'argueably']\n"
     ]
    }
   ],
   "source": [
    "print('First 20 hapax legomena in cars corpus:', fdist_cars.hapaxes()[:20])\n",
    "print('First 20 hapax legomena in space corpus:', fdist_space.hapaxes()[:20])\n",
    "print('First 20 hapax legomena in guns corpus:', fdist_guns.hapaxes()[:20])"
   ]
  },
  {
   "cell_type": "code",
   "execution_count": 74,
   "metadata": {},
   "outputs": [
    {
     "name": "stdout",
     "output_type": "stream",
     "text": [
      "First 20 long words in cars corpus: ['designation', 'unnecessary', 'photography', 'directional', 'astronomical', 'operational', 'arbitrarily', 'potentially', 'supermarket', 'condensation', 'fluorocarbon', 'conventional', 'adrenalizing', 'perspective', 'informative', 'hoegertrafik', 'participaants', 'significantly', 'knowledgeable', 'irregularites']\n",
      "First 20 long words in space corpus: ['breakthrough', 'aerodynamic', 'designation', 'solarreports', 'communicator', 'troposphere', 'extraterrestrial', 'thoroughness', 'coincidentally', 'unnecessary', 'accompanied', 'stabilization', 'utilization', 'criticality', 'photography', 'scintillation', 'contamination', 'maximization', 'cartography', 'economically']\n",
      "First 20 long words in guns corpus: ['breakthrough', 'designation', 'transdillidians', 'appropriation', 'unnecessary', 'homelessness', 'quantitative', 'fissionable', 'utilization', 'restrictive', 'mispronounced', 'provocative', 'nonetheless', 'economically', 'uncomplimentary', 'overwhelmingly', 'harshbarger', 'arraingement', 'arbitrarily', 'potentially']\n"
     ]
    }
   ],
   "source": [
    "vocab_cars = set(tokenized_cars_lemmas)\n",
    "vocab_space = set(tokenized_space_lemmas)\n",
    "vocab_guns = set(tokenized_guns_lemmas)\n",
    "\n",
    "# Let's define a long word as a word with more than 10 characters.\n",
    "long_words_cars = [word for word in vocab_cars if len(word) > 10] \n",
    "long_words_space = [word for word in vocab_space if len(word) > 10]\n",
    "long_words_guns = [word for word in vocab_guns if len(word) > 10]\n",
    "\n",
    "print('First 20 long words in cars corpus:', long_words_cars[:20])\n",
    "print('First 20 long words in space corpus:', long_words_space[:20])\n",
    "print('First 20 long words in guns corpus:', long_words_guns[:20])"
   ]
  },
  {
   "cell_type": "code",
   "execution_count": 75,
   "metadata": {},
   "outputs": [
    {
     "name": "stdout",
     "output_type": "stream",
     "text": [
      "Long frequent words in cars corpus: ['application', 'appropriate', 'competition', 'convertible', 'designation', 'distribution', 'information', 'maintenance', 'manufacture', 'manufacturer', 'performance', 'reliability', 'replacement', 'temperature', 'transmission']\n",
      "Long frequent words in space corpus: ['acceleration', 'administration', 'advertising', 'aeronautics', 'application', 'appropriate', 'approximately', 'arianespace', 'association', 'astronautics', 'astronomical', 'atmospheric', 'calculation', 'communication', 'comprehensive', 'configuration', 'consideration', 'constellation', 'construction', 'corporation', 'demonstrate', 'description', 'development', 'distribution', 'engineering', 'environment', 'environmental', 'essentially', 'experimental', 'exploration', 'gravitational', 'inclination', 'information', 'integration', 'interesting', 'international', 'interplanetary', 'interstellar', 'introduction', 'measurement', 'observation', 'observatory', 'operational', 'opportunity', 'organization', 'participate', 'particularly', 'performance', 'presentation', 'professional', 'publication', 'requirement', 'significant', 'spaceflight', 'specifically', 'spectrometer', 'substantial', 'telecommunication', 'temperature', 'theoretical', 'transponder', 'transportation', 'ultraviolet']\n",
      "Long frequent words in guns corpus: ['application', 'appropriate', 'association', 'availability', 'circumstance', 'constitution', 'constitutional', 'enforcement', 'fundamental', 'information', 'international', 'investigation', 'justification', 'legislation', 'libertarian', 'manufacture', 'organization', 'prosecution', 'registration', 'representative', 'responsibility', 'responsible', 'restriction', 'significant', 'subcommittee', 'switzerland']\n"
     ]
    }
   ],
   "source": [
    "# Let's define frequent words as those that occur more than 10 times.\n",
    "long_frequent_words_cars = [word for word in vocab_cars if len(word) > 10 and fdist_cars[word] > 10]\n",
    "long_frequent_words_space = [word for word in vocab_space if len(word) > 10 and fdist_space[word] > 10]\n",
    "long_frequent_words_guns = [word for word in vocab_guns if len(word) > 10 and fdist_guns[word] > 10]\n",
    "\n",
    "print('Long frequent words in cars corpus:', sorted(long_frequent_words_cars))\n",
    "print('Long frequent words in space corpus:', sorted(long_frequent_words_space))\n",
    "print('Long frequent words in guns corpus:', sorted(long_frequent_words_guns))"
   ]
  },
  {
   "cell_type": "markdown",
   "metadata": {},
   "source": [
    "## N-grams and collocations\n",
    "\n",
    "N-grams are words that co-occur within a given window: 2-grams (bigrams) are two words that co-occur, 3-grams (trigrams) are three words that co-occur, etc. The window is typically just one word (i.e., the words must be next to each other). \n",
    "\n",
    "N-gram collocations are n-grams that occur more often than we would expect based on the frequency of the individual words. We can compute them in Python using Pointwise Mutual Information (a measure of association used in statistics).\n",
    "\n",
    "Collocations documentation: http://www.nltk.org/howto/collocations.html"
   ]
  },
  {
   "cell_type": "code",
   "execution_count": 76,
   "metadata": {},
   "outputs": [
    {
     "name": "stdout",
     "output_type": "stream",
     "text": [
      "Top 20 bigrams in cars corpus: [('acns', 'nwu'), ('adams', 'hitchhiker'), ('adjusting', 'dashboard'), ('advocating', 'breaking'), ('agents', 'bumf'), ('agg', 'ressive'), ('airplane', 'corporation'), ('albeit', 'swiftly'), ('albert', 'einstein'), ('aliases', 'whichever'), ('alice', 'ruth'), ('align', 'struts'), ('alter', 'tailhappieness'), ('ambulance', 'corps'), ('amin', 'remarked'), ('amputating', 'infection'), ('announce', 'newusers'), ('anonima', 'lombarda'), ('apologised', 'profusely'), ('apples', 'oranges')]\n",
      "Top 20 bigrams in space corpus: [('aantal', 'voordrachten'), ('aao', 'anglo'), ('abbs', 'hanse'), ('abundance', 'jennies'), ('abyss', 'horizons'), ('accommodated', 'crowded'), ('acids', 'oxides'), ('actinide', 'dump'), ('actuator', 'dda'), ('adaptability', 'reacting'), ('addison', 'wesley'), ('administrations', 'foolish'), ('advertises', 'mercedes'), ('aert', 'jansz'), ('affairs', 'officers'), ('afgestemd', 'tweedejaars'), ('afsluiting', 'borrel'), ('afternoons', 'fermented'), ('agents', 'atf'), ('agenzia', 'spaziale')]\n",
      "Top 20 bigrams in guns corpus: [('aaah', 'daniaalson'), ('aaron', 'zelman'), ('aarp', 'aaa'), ('aaw', 'rti'), ('aayau', 'xerkyi'), ('abhorred', 'saddam'), ('ably', 'assisted'), ('abrupt', 'encounter'), ('academic', 'likes'), ('ach', 'wan'), ('actuarial', 'consigment'), ('acx', 'pedo'), ('addictive', 'attest'), ('adobe', 'fortress'), ('advertiser', 'montgomery'), ('aelrx', 'lesw'), ('aen', 'mkzbkb'), ('aeyip', 'jypk'), ('afghan', 'rebels'), ('ahem', 'hrumph')]\n"
     ]
    }
   ],
   "source": [
    "bigram_measures = nltk.collocations.BigramAssocMeasures()\n",
    "bigram_finder_cars = BigramCollocationFinder.from_words(tokenized_cars)\n",
    "bigram_finder_space = BigramCollocationFinder.from_words(tokenized_space)\n",
    "bigram_finder_guns = BigramCollocationFinder.from_words(tokenized_guns)\n",
    "\n",
    "# Top 20 bigrams.\n",
    "print('Top 20 bigrams in cars corpus:', bigram_finder_cars.nbest(bigram_measures.pmi, 20))\n",
    "print('Top 20 bigrams in space corpus:', bigram_finder_space.nbest(bigram_measures.pmi, 20))\n",
    "print('Top 20 bigrams in guns corpus:', bigram_finder_guns.nbest(bigram_measures.pmi, 20))"
   ]
  },
  {
   "cell_type": "markdown",
   "metadata": {},
   "source": [
    "Let's filter the results to only see the top 20 bigrams that appear at least five times."
   ]
  },
  {
   "cell_type": "code",
   "execution_count": 77,
   "metadata": {
    "scrolled": true
   },
   "outputs": [
    {
     "name": "stdout",
     "output_type": "stream",
     "text": [
      "Top 20 frequent bigrams in cars corpus: [('csmes', 'ncsl'), ('fahrvergnugen', 'forever'), ('ncsl', 'nist'), ('gov', 'fahrvergnugen'), ('nist', 'gov'), ('del', 'sol'), ('cup', 'holder'), ('regards', 'charles'), ('balltown', 'cma'), ('master', 'cylinder'), ('keys', 'csmes'), ('blah', 'blah'), ('explain', 'indicates'), ('fully', 'loaded'), ('timing', 'belt'), ('distribution', 'field'), ('land', 'cruiser'), ('finance', 'guy'), ('larry', 'keys'), ('operating', 'temperature')]\n",
      "Top 20 frequent bigrams in space corpus: [('wales', 'larrison'), ('hong', 'kong'), ('carl', 'sagan'), ('dani', 'eder'), ('kjenks', 'gothamcity'), ('circumference', 'mystery'), ('gao', 'nsiad'), ('topex', 'poseidon'), ('cape', 'canaveral'), ('chrisj', 'emx'), ('mystery', 'grows'), ('zoo', 'toronto'), ('ingress', 'egress'), ('isu', 'isunet'), ('emx', 'utexas'), ('los', 'angeles'), ('nssdca', 'gsfc'), ('willmann', 'bell'), ('baalke', 'kelvin'), ('pasadena', 'calif')]\n",
      "Top 20 frequent bigrams in guns corpus: [('godiva', 'nectar'), ('las', 'vegas'), ('nectar', 'cmu'), ('los', 'angeles'), ('preston', 'covey'), ('specially', 'adapted'), ('steven', 'hughes'), ('municipal', 'corporation'), ('union', 'theatre'), ('cbs', 'nightly'), ('centers', 'disease'), ('founding', 'fathers'), ('element', 'surprise'), ('fundamental', 'inalienable'), ('rhode', 'island'), ('anon', 'pub'), ('oak', 'park'), ('waste', 'bandwith'), ('cross', 'examination'), ('neal', 'knox')]\n"
     ]
    }
   ],
   "source": [
    "bigram_finder_cars.apply_freq_filter(5)\n",
    "bigram_finder_space.apply_freq_filter(5)\n",
    "bigram_finder_guns.apply_freq_filter(5)\n",
    "\n",
    "print('Top 20 frequent bigrams in cars corpus:', bigram_finder_cars.nbest(bigram_measures.pmi, 20))\n",
    "print('Top 20 frequent bigrams in space corpus:', bigram_finder_space.nbest(bigram_measures.pmi, 20))\n",
    "print('Top 20 frequent bigrams in guns corpus:', bigram_finder_guns.nbest(bigram_measures.pmi, 20))"
   ]
  },
  {
   "cell_type": "markdown",
   "metadata": {},
   "source": [
    "We can also apply a word filter to remove bigrams containing specific words."
   ]
  },
  {
   "cell_type": "code",
   "execution_count": 78,
   "metadata": {},
   "outputs": [
    {
     "name": "stdout",
     "output_type": "stream",
     "text": [
      "Top 20 frequent bigrams in cars corpus (filtered): [('csmes', 'ncsl'), ('fahrvergnugen', 'forever'), ('ncsl', 'nist'), ('del', 'sol'), ('cup', 'holder'), ('regards', 'charles'), ('balltown', 'cma'), ('master', 'cylinder'), ('keys', 'csmes'), ('explain', 'indicates'), ('fully', 'loaded'), ('timing', 'belt'), ('distribution', 'field'), ('land', 'cruiser'), ('finance', 'guy'), ('larry', 'keys'), ('operating', 'temperature'), ('forever', 'fact'), ('backup', 'lights'), ('oxygen', 'sensor')]\n",
      "Top 20 frequent bigrams in space corpus (filtered): [('wales', 'larrison'), ('hong', 'kong'), ('carl', 'sagan'), ('dani', 'eder'), ('kjenks', 'gothamcity'), ('circumference', 'mystery'), ('gao', 'nsiad'), ('topex', 'poseidon'), ('cape', 'canaveral'), ('mystery', 'grows'), ('zoo', 'toronto'), ('ingress', 'egress'), ('isu', 'isunet'), ('los', 'angeles'), ('nssdca', 'gsfc'), ('willmann', 'bell'), ('baalke', 'kelvin'), ('pasadena', 'calif'), ('sunrise', 'sunset'), ('ken', 'jenks')]\n",
      "Top 20 frequent bigrams in guns corpus (filtered): [('godiva', 'nectar'), ('las', 'vegas'), ('nectar', 'cmu'), ('los', 'angeles'), ('preston', 'covey'), ('specially', 'adapted'), ('steven', 'hughes'), ('municipal', 'corporation'), ('union', 'theatre'), ('cbs', 'nightly'), ('centers', 'disease'), ('founding', 'fathers'), ('element', 'surprise'), ('fundamental', 'inalienable'), ('rhode', 'island'), ('anon', 'pub'), ('oak', 'park'), ('waste', 'bandwith'), ('cross', 'examination'), ('neal', 'knox')]\n"
     ]
    }
   ],
   "source": [
    "bigram_finder_cars.apply_freq_filter(5)\n",
    "bigram_finder_space.apply_freq_filter(5)\n",
    "bigram_finder_guns.apply_freq_filter(5)\n",
    "\n",
    "bigram_finder_cars.apply_word_filter(lambda w: w in ('gov', 'blah'))\n",
    "bigram_finder_space.apply_word_filter(lambda w: w in ('emx'))\n",
    "bigram_finder_guns.apply_word_filter(lambda w: w in ('ifas'))\n",
    "\n",
    "print('Top 20 frequent bigrams in cars corpus (filtered):', bigram_finder_cars.nbest(bigram_measures.pmi, 20))\n",
    "print('Top 20 frequent bigrams in space corpus (filtered):', bigram_finder_space.nbest(bigram_measures.pmi, 20))\n",
    "print('Top 20 frequent bigrams in guns corpus (filtered):', bigram_finder_guns.nbest(bigram_measures.pmi, 20))"
   ]
  },
  {
   "cell_type": "code",
   "execution_count": 79,
   "metadata": {},
   "outputs": [
    {
     "name": "stdout",
     "output_type": "stream",
     "text": [
      "Top 20 frequent trigrams in cars corpus: [('csmes', 'ncsl', 'nist'), ('gov', 'fahrvergnugen', 'forever'), ('ncsl', 'nist', 'gov'), ('nist', 'gov', 'fahrvergnugen'), ('keys', 'csmes', 'ncsl'), ('larry', 'keys', 'csmes'), ('fahrvergnugen', 'forever', 'fact'), ('explain', 'indicates', 'probably'), ('balltown', 'cma', 'com'), ('request', 'balltown', 'cma'), ('need', 'explain', 'indicates'), ('forever', 'fact', 'need'), ('indicates', 'probably', 'wouldn'), ('fact', 'need', 'explain'), ('probably', 'wouldn', 'understand'), ('archive', 'rec', 'autos')]\n",
      "Top 20 frequent trigrams in space corpus: [('circumference', 'mystery', 'grows'), ('chrisj', 'emx', 'utexas'), ('ingress', 'egress', 'ring'), ('kjenks', 'gothamcity', 'jsc'), ('mac', 'tom', 'mcwilliams'), ('increases', 'ibm', 'msu'), ('mcwilliams', 'radius', 'vision'), ('tommy', 'mac', 'tom'), ('tmp', 'thu', 'apr'), ('vision', 'increases', 'ibm'), ('office', 'kjenks', 'gothamcity'), ('baalke', 'kelvin', 'jpl'), ('radius', 'vision', 'increases'), ('tom', 'mcwilliams', 'radius'), ('insisting', 'perfect', 'safety'), ('command', 'loss', 'timer'), ('late', 'physicist', 'dewey'), ('incoming', 'gif', 'ics'), ('gif', 'ics', 'uci'), ('edu', 'circumference', 'mystery')]\n",
      "Top 20 frequent trigrams in guns corpus: [('godiva', 'nectar', 'cmu'), ('shooters', 'association', 'australia'), ('union', 'theatre', 'august'), ('cbs', 'nightly', 'propaganda'), ('sponsored', 'sporting', 'shooters'), ('mark', 'steven', 'hughes'), ('signature', 'merely', 'computergenerated'), ('nightly', 'propaganda', 'dan'), ('natural', 'fundamental', 'inalienable'), ('melbourne', 'university', 'union'), ('university', 'union', 'theatre'), ('designed', 'specially', 'adapted'), ('jrm', 'gnv', 'ifas'), ('gnv', 'ifas', 'ufl'), ('waste', 'bandwith', 'bring'), ('computergenerated', 'text', 'waste'), ('grounded', 'social', 'utility'), ('text', 'waste', 'bandwith'), ('theatre', 'august', 'conference'), ('sporting', 'shooters', 'association')]\n"
     ]
    }
   ],
   "source": [
    "# Repeat for trigrams.\n",
    "trigram_measures = nltk.collocations.TrigramAssocMeasures()\n",
    "trigram_finder_cars = TrigramCollocationFinder.from_words(tokenized_cars)\n",
    "trigram_finder_space = TrigramCollocationFinder.from_words(tokenized_space)\n",
    "trigram_finder_guns = TrigramCollocationFinder.from_words(tokenized_guns)\n",
    "\n",
    "trigram_finder_cars.apply_freq_filter(5)\n",
    "trigram_finder_space.apply_freq_filter(5)\n",
    "trigram_finder_guns.apply_freq_filter(5)\n",
    "\n",
    "print('Top 20 frequent trigrams in cars corpus:', trigram_finder_cars.nbest(trigram_measures.pmi, 20))\n",
    "print('Top 20 frequent trigrams in space corpus:', trigram_finder_space.nbest(trigram_measures.pmi, 20))\n",
    "print('Top 20 frequent trigrams in guns corpus:', trigram_finder_guns.nbest(trigram_measures.pmi, 20))"
   ]
  },
  {
   "cell_type": "markdown",
   "metadata": {},
   "source": [
    "## Searching text (in context)\n",
    "\n",
    "We've been looking at words in isolation as well as in clusters of two and three (bigrams and trigrams). Let's zoom out and examine the context of these words. NLTK provides some very useful functions for this.\n",
    "\n",
    "To preserve as much of the original context as we can (including punctuation and special characters), we can tokenize the corpora with NLTK's `word_tokenize`. These tokenized corpora then have to be transformed into NLTK Text objects in order for the NLTK-specific methods to be executed on them:\n",
    "- **Concordances** allow us to see keywords in context (KWIC).\n",
    "- For any given word, we can calculate **similar words** in the corpus: which words occur in a similar range of contexts?\n",
    "- For any given set of two or more words, we can examine the **common contexts** that they share in the corpus (if any).\n",
    "- We can visualise the locations of words in the text by generating a **lexical dispersion plot**. Each stripe in the plot represents an instance of a word, and each row represents the entire text. Location is measured by 'word offset': the number of characters from the beginning of the text at which the word can be found."
   ]
  },
  {
   "cell_type": "code",
   "execution_count": 80,
   "metadata": {},
   "outputs": [],
   "source": [
    "tokenized_cars_nltk = nltk.word_tokenize(cars_corpus)\n",
    "tokenized_space_nltk = nltk.word_tokenize(space_corpus)\n",
    "tokenized_guns_nltk = nltk.word_tokenize(guns_corpus)\n",
    "\n",
    "cars_text = nltk.Text(tokenized_cars_nltk)\n",
    "space_text = nltk.Text(tokenized_space_nltk)\n",
    "guns_text = nltk.Text(tokenized_guns_nltk)"
   ]
  },
  {
   "cell_type": "code",
   "execution_count": 81,
   "metadata": {},
   "outputs": [
    {
     "name": "stdout",
     "output_type": "stream",
     "text": [
      "Displaying 8 of 8 matches:\n",
      "les . q : what causes unintended acceleration ? a : the final report of the na\n",
      "ration concluded that unintended acceleration could not be caused by any mecha\n",
      "e drop . it just has n't got the acceleration it used to . any help/tips would\n",
      "on . q : what do the numbers for acceleration from 0-60 , 1/4 mile , skidpad ,\n",
      "ost never . in more detail : the acceleration numbers ( 0-60mph and 1/4 mile t\n",
      " of the converter gives you more acceleration ( vs. locked converter clutch ) \n",
      "assertions.. i get much stronger acceleration if i let the convertor lockup.. \n",
      "sonal luxury car . it had better acceleration and a higher top speed than the \n"
     ]
    }
   ],
   "source": [
    "cars_text.concordance('acceleration')"
   ]
  },
  {
   "cell_type": "code",
   "execution_count": 82,
   "metadata": {},
   "outputs": [
    {
     "name": "stdout",
     "output_type": "stream",
     "text": [
      "Displaying 19 of 19 matches:\n",
      "on . if we 're talking sustained acceleration , i think 30-odd gees has been d\n",
      "nd about 50 cm long . all of the acceleration comes from the expansion of the \n",
      " distance , v is velocity , a is acceleration , t is time . additional more sp\n",
      "e/faq/moreequations for constant acceleration d = d0 + vt + .5at^2 v = v0 + at\n",
      "t + .5at^2 v = v0 + at v^2 = 2ad acceleration on a cylinder ( space colony , e\n",
      "istic rocket equation ( constant acceleration ) t ( unaccelerated ) = c/a * si\n",
      "eous f=ma -- force is mass times acceleration w=fd -- work ( energy ) is force\n",
      "weight in kg of air , g is local acceleration of gravity , t is temperature , \n",
      " . in reference to the limits of acceleration with guns launching solid rocket\n",
      "d if they try to gain an initial acceleration by passing close to the sun in a\n",
      "ble , what is used to absorb the acceleration ? can this be extended to larger\n",
      "t . the main restriction is that acceleration must remain below 3 gs . i assum\n",
      "son showed the following plot of acceleration vs time : ______ 3 g /| / | / | \n",
      "is not possible , because system acceleration ( a ( t ) ) capabilities are alw\n",
      "ess than the local gravitational acceleration . in contrast , gain values 50-1\n",
      "her shows the potential for high acceleration ( a ( t ) =0.55g ( o ) ) flight \n",
      "oven in atomic accelerators that acceleration drops toward zero near the speed\n",
      "d of light . but the formula for acceleration is acceleration = force / mass ,\n",
      " the formula for acceleration is acceleration = force / mass , ( a = f/m ) . o\n"
     ]
    }
   ],
   "source": [
    "space_text.concordance('acceleration')"
   ]
  },
  {
   "cell_type": "code",
   "execution_count": 83,
   "metadata": {},
   "outputs": [
    {
     "name": "stdout",
     "output_type": "stream",
     "text": [
      "the it time earth lunar first this nasa you course april ground\n",
      "aerospace shuttle orbit government and research science list\n"
     ]
    }
   ],
   "source": [
    "space_text.similar('space')"
   ]
  },
  {
   "cell_type": "code",
   "execution_count": 84,
   "metadata": {},
   "outputs": [
    {
     "name": "stdout",
     "output_type": "stream",
     "text": [
      "soviet_and a_colony model_colony in_and the_and a_program of_and\n"
     ]
    }
   ],
   "source": [
    "space_text.common_contexts(['space', 'lunar'])"
   ]
  },
  {
   "cell_type": "code",
   "execution_count": 85,
   "metadata": {},
   "outputs": [
    {
     "data": {
      "image/png": "[encoded data removed]",
      "text/plain": [
       "<Figure size 1200x400 with 1 Axes>"
      ]
     },
     "metadata": {},
     "output_type": "display_data"
    }
   ],
   "source": [
    "plt.style.use('classic')\n",
    "plt.figure(figsize=(15, 5)) \n",
    "space_text.dispersion_plot(['sun', 'earth', 'moon', 'satellite'])"
   ]
  },
  {
   "cell_type": "markdown",
   "metadata": {},
   "source": [
    "## Open-Ended Exercises and Questions\n",
    "1. Rerun the above analyses for other forum topics. It would be interesting to compare two topics in the same category: e.g., comp.sys.ibm.pc.hardware and comp.sys.mac.hardware (PC vs Mac hardware).\n",
    "2. What are the most common adjectives in the forum corpora? The most common verbs?\n",
    "3. What are the most common short words (length < 5)?\n",
    "4. Play around with the various tools that NLTK provides for searching text (concordances, similar words, lexical dispersion plots) with different corpora."
   ]
  },
  {
   "cell_type": "code",
   "execution_count": null,
   "metadata": {},
   "outputs": [],
   "source": []
  }
 ],
 "metadata": {
  "anaconda-cloud": {},
  "kernelspec": {
   "display_name": "Python [default]",
   "language": "python",
   "name": "python3"
  },
  "language_info": {
   "codemirror_mode": {
    "name": "ipython",
    "version": 3
   },
   "file_extension": ".py",
   "mimetype": "text/x-python",
   "name": "python",
   "nbconvert_exporter": "python",
   "pygments_lexer": "ipython3",
   "version": "3.5.5"
  }
 },
 "nbformat": 4,
 "nbformat_minor": 2
}
